{
  "nbformat": 4,
  "nbformat_minor": 0,
  "metadata": {
    "colab": {
      "name": "Task-7 .ipynb",
      "provenance": [],
      "collapsed_sections": []
    },
    "kernelspec": {
      "name": "python3",
      "display_name": "Python 3"
    },
    "language_info": {
      "name": "python"
    },
    "gpuClass": "standard"
  },
  "cells": [
    {
      "cell_type": "code",
      "execution_count": null,
      "metadata": {
        "id": "tL5oz4wYYySk"
      },
      "outputs": [],
      "source": [
        "# GRIP- April2022\n",
        "# The Spark Foundation-Data science & Business Analytics Intern\n",
        "# Aauthor - Sumyuktha.k\n",
        "# Email: atturu05@gmail.com\n",
        "# Task 7 : Stock Market Prediction using Numerical and Textual Analysis"
      ]
    },
    {
      "cell_type": "code",
      "source": [
        "# Import libraries\n",
        "import pandas as pd\n",
        "import numpy as np\n",
        "import seaborn as sns\n",
        "import matplotlib.pyplot as plt\n",
        "import warnings\n",
        "warnings.filterwarnings('ignore')\n",
        "\n",
        "import nltk\n",
        "import re\n",
        "from textblob import TextBlob\n",
        "import csv\n",
        "from nltk.sentiment.vader import SentimentIntensityAnalyzer\n",
        "from sklearn.preprocessing import MinMaxScaler\n",
        "from sklearn.metrics import mean_squared_error\n",
        "from sklearn.model_selection import train_test_split"
      ],
      "metadata": {
        "id": "DRQggAUkYz4J"
      },
      "execution_count": 1,
      "outputs": []
    },
    {
      "cell_type": "code",
      "source": [
        "# For reading stock data from yahoo\n",
        "from pandas_datareader.data import DataReader\n",
        "# For time stamps\n",
        "from datetime import datetime"
      ],
      "metadata": {
        "id": "acsjicGQYz7y"
      },
      "execution_count": 2,
      "outputs": []
    },
    {
      "cell_type": "markdown",
      "source": [
        "Textual Analysis of News Report"
      ],
      "metadata": {
        "id": "5DqxwCD962Nm"
      }
    },
    {
      "cell_type": "code",
      "source": [
        "# load the data set\n",
        "df = pd.read_csv(\"india-news-headlines.csv\")"
      ],
      "metadata": {
        "id": "fY6KRGF-Yz-6"
      },
      "execution_count": 3,
      "outputs": []
    },
    {
      "cell_type": "code",
      "source": [
        "# reading the dataset\n",
        "df.head(5)"
      ],
      "metadata": {
        "id": "TzZ5e91NY0CZ",
        "colab": {
          "base_uri": "https://localhost:8080/",
          "height": 206
        },
        "outputId": "359b2d70-939d-4e94-81b0-3f16bce89039"
      },
      "execution_count": 4,
      "outputs": [
        {
          "output_type": "execute_result",
          "data": {
            "text/plain": [
              "   publish_date headline_category  \\\n",
              "0      20010102           unknown   \n",
              "1      20010102           unknown   \n",
              "2      20010102           unknown   \n",
              "3      20010102           unknown   \n",
              "4      20010102           unknown   \n",
              "\n",
              "                                       headline_text  \n",
              "0  Status quo will not be disturbed at Ayodhya; s...  \n",
              "1                Fissures in Hurriyat over Pak visit  \n",
              "2              America's unwanted heading for India?  \n",
              "3                 For bigwigs; it is destination Goa  \n",
              "4               Extra buses to clear tourist traffic  "
            ],
            "text/html": [
              "\n",
              "  <div id=\"df-7f69887b-ac7f-4a15-93d6-a625d5859d7a\">\n",
              "    <div class=\"colab-df-container\">\n",
              "      <div>\n",
              "<style scoped>\n",
              "    .dataframe tbody tr th:only-of-type {\n",
              "        vertical-align: middle;\n",
              "    }\n",
              "\n",
              "    .dataframe tbody tr th {\n",
              "        vertical-align: top;\n",
              "    }\n",
              "\n",
              "    .dataframe thead th {\n",
              "        text-align: right;\n",
              "    }\n",
              "</style>\n",
              "<table border=\"1\" class=\"dataframe\">\n",
              "  <thead>\n",
              "    <tr style=\"text-align: right;\">\n",
              "      <th></th>\n",
              "      <th>publish_date</th>\n",
              "      <th>headline_category</th>\n",
              "      <th>headline_text</th>\n",
              "    </tr>\n",
              "  </thead>\n",
              "  <tbody>\n",
              "    <tr>\n",
              "      <th>0</th>\n",
              "      <td>20010102</td>\n",
              "      <td>unknown</td>\n",
              "      <td>Status quo will not be disturbed at Ayodhya; s...</td>\n",
              "    </tr>\n",
              "    <tr>\n",
              "      <th>1</th>\n",
              "      <td>20010102</td>\n",
              "      <td>unknown</td>\n",
              "      <td>Fissures in Hurriyat over Pak visit</td>\n",
              "    </tr>\n",
              "    <tr>\n",
              "      <th>2</th>\n",
              "      <td>20010102</td>\n",
              "      <td>unknown</td>\n",
              "      <td>America's unwanted heading for India?</td>\n",
              "    </tr>\n",
              "    <tr>\n",
              "      <th>3</th>\n",
              "      <td>20010102</td>\n",
              "      <td>unknown</td>\n",
              "      <td>For bigwigs; it is destination Goa</td>\n",
              "    </tr>\n",
              "    <tr>\n",
              "      <th>4</th>\n",
              "      <td>20010102</td>\n",
              "      <td>unknown</td>\n",
              "      <td>Extra buses to clear tourist traffic</td>\n",
              "    </tr>\n",
              "  </tbody>\n",
              "</table>\n",
              "</div>\n",
              "      <button class=\"colab-df-convert\" onclick=\"convertToInteractive('df-7f69887b-ac7f-4a15-93d6-a625d5859d7a')\"\n",
              "              title=\"Convert this dataframe to an interactive table.\"\n",
              "              style=\"display:none;\">\n",
              "        \n",
              "  <svg xmlns=\"http://www.w3.org/2000/svg\" height=\"24px\"viewBox=\"0 0 24 24\"\n",
              "       width=\"24px\">\n",
              "    <path d=\"M0 0h24v24H0V0z\" fill=\"none\"/>\n",
              "    <path d=\"M18.56 5.44l.94 2.06.94-2.06 2.06-.94-2.06-.94-.94-2.06-.94 2.06-2.06.94zm-11 1L8.5 8.5l.94-2.06 2.06-.94-2.06-.94L8.5 2.5l-.94 2.06-2.06.94zm10 10l.94 2.06.94-2.06 2.06-.94-2.06-.94-.94-2.06-.94 2.06-2.06.94z\"/><path d=\"M17.41 7.96l-1.37-1.37c-.4-.4-.92-.59-1.43-.59-.52 0-1.04.2-1.43.59L10.3 9.45l-7.72 7.72c-.78.78-.78 2.05 0 2.83L4 21.41c.39.39.9.59 1.41.59.51 0 1.02-.2 1.41-.59l7.78-7.78 2.81-2.81c.8-.78.8-2.07 0-2.86zM5.41 20L4 18.59l7.72-7.72 1.47 1.35L5.41 20z\"/>\n",
              "  </svg>\n",
              "      </button>\n",
              "      \n",
              "  <style>\n",
              "    .colab-df-container {\n",
              "      display:flex;\n",
              "      flex-wrap:wrap;\n",
              "      gap: 12px;\n",
              "    }\n",
              "\n",
              "    .colab-df-convert {\n",
              "      background-color: #E8F0FE;\n",
              "      border: none;\n",
              "      border-radius: 50%;\n",
              "      cursor: pointer;\n",
              "      display: none;\n",
              "      fill: #1967D2;\n",
              "      height: 32px;\n",
              "      padding: 0 0 0 0;\n",
              "      width: 32px;\n",
              "    }\n",
              "\n",
              "    .colab-df-convert:hover {\n",
              "      background-color: #E2EBFA;\n",
              "      box-shadow: 0px 1px 2px rgba(60, 64, 67, 0.3), 0px 1px 3px 1px rgba(60, 64, 67, 0.15);\n",
              "      fill: #174EA6;\n",
              "    }\n",
              "\n",
              "    [theme=dark] .colab-df-convert {\n",
              "      background-color: #3B4455;\n",
              "      fill: #D2E3FC;\n",
              "    }\n",
              "\n",
              "    [theme=dark] .colab-df-convert:hover {\n",
              "      background-color: #434B5C;\n",
              "      box-shadow: 0px 1px 3px 1px rgba(0, 0, 0, 0.15);\n",
              "      filter: drop-shadow(0px 1px 2px rgba(0, 0, 0, 0.3));\n",
              "      fill: #FFFFFF;\n",
              "    }\n",
              "  </style>\n",
              "\n",
              "      <script>\n",
              "        const buttonEl =\n",
              "          document.querySelector('#df-7f69887b-ac7f-4a15-93d6-a625d5859d7a button.colab-df-convert');\n",
              "        buttonEl.style.display =\n",
              "          google.colab.kernel.accessAllowed ? 'block' : 'none';\n",
              "\n",
              "        async function convertToInteractive(key) {\n",
              "          const element = document.querySelector('#df-7f69887b-ac7f-4a15-93d6-a625d5859d7a');\n",
              "          const dataTable =\n",
              "            await google.colab.kernel.invokeFunction('convertToInteractive',\n",
              "                                                     [key], {});\n",
              "          if (!dataTable) return;\n",
              "\n",
              "          const docLinkHtml = 'Like what you see? Visit the ' +\n",
              "            '<a target=\"_blank\" href=https://colab.research.google.com/notebooks/data_table.ipynb>data table notebook</a>'\n",
              "            + ' to learn more about interactive tables.';\n",
              "          element.innerHTML = '';\n",
              "          dataTable['output_type'] = 'display_data';\n",
              "          await google.colab.output.renderOutput(dataTable, element);\n",
              "          const docLink = document.createElement('div');\n",
              "          docLink.innerHTML = docLinkHtml;\n",
              "          element.appendChild(docLink);\n",
              "        }\n",
              "      </script>\n",
              "    </div>\n",
              "  </div>\n",
              "  "
            ]
          },
          "metadata": {},
          "execution_count": 4
        }
      ]
    },
    {
      "cell_type": "code",
      "source": [
        "# Converting the publish date data type to date time\n",
        "df['Date']=pd.to_datetime(df['publish_date'],format='%Y%m%d')\n",
        "df.drop(columns='publish_date',inplace=True)"
      ],
      "metadata": {
        "id": "9Giv6vbx2xX5"
      },
      "execution_count": 5,
      "outputs": []
    },
    {
      "cell_type": "code",
      "source": [
        "df"
      ],
      "metadata": {
        "id": "DjlxNVBmY0FI",
        "colab": {
          "base_uri": "https://localhost:8080/",
          "height": 424
        },
        "outputId": "d2d2ddfd-2e2f-46b6-e24c-45c6318817d7"
      },
      "execution_count": 6,
      "outputs": [
        {
          "output_type": "execute_result",
          "data": {
            "text/plain": [
              "                     headline_category  \\\n",
              "0                              unknown   \n",
              "1                              unknown   \n",
              "2                              unknown   \n",
              "3                              unknown   \n",
              "4                              unknown   \n",
              "...                                ...   \n",
              "3650965                  city.srinagar   \n",
              "3650966  entertainment.hindi.bollywood   \n",
              "3650967                    city.trichy   \n",
              "3650968                     city.erode   \n",
              "3650969                     city.salem   \n",
              "\n",
              "                                             headline_text       Date  \n",
              "0        Status quo will not be disturbed at Ayodhya; s... 2001-01-02  \n",
              "1                      Fissures in Hurriyat over Pak visit 2001-01-02  \n",
              "2                    America's unwanted heading for India? 2001-01-02  \n",
              "3                       For bigwigs; it is destination Goa 2001-01-02  \n",
              "4                     Extra buses to clear tourist traffic 2001-01-02  \n",
              "...                                                    ...        ...  \n",
              "3650965  J&K sacks 2 cops; 3 other employees over terro... 2022-03-31  \n",
              "3650966  Ranbir Kapoor says 'Rishi Kapoor enjoyed his a... 2022-03-31  \n",
              "3650967  As Covid-19 cases drop to nil in southern dist... 2022-03-31  \n",
              "3650968  Tamil Nadu sees marginal rise of Covid cases w... 2022-03-31  \n",
              "3650969  Tamil Nadu sees marginal rise of Covid cases w... 2022-03-31  \n",
              "\n",
              "[3650970 rows x 3 columns]"
            ],
            "text/html": [
              "\n",
              "  <div id=\"df-62100413-8579-40b8-9276-bad8d659928c\">\n",
              "    <div class=\"colab-df-container\">\n",
              "      <div>\n",
              "<style scoped>\n",
              "    .dataframe tbody tr th:only-of-type {\n",
              "        vertical-align: middle;\n",
              "    }\n",
              "\n",
              "    .dataframe tbody tr th {\n",
              "        vertical-align: top;\n",
              "    }\n",
              "\n",
              "    .dataframe thead th {\n",
              "        text-align: right;\n",
              "    }\n",
              "</style>\n",
              "<table border=\"1\" class=\"dataframe\">\n",
              "  <thead>\n",
              "    <tr style=\"text-align: right;\">\n",
              "      <th></th>\n",
              "      <th>headline_category</th>\n",
              "      <th>headline_text</th>\n",
              "      <th>Date</th>\n",
              "    </tr>\n",
              "  </thead>\n",
              "  <tbody>\n",
              "    <tr>\n",
              "      <th>0</th>\n",
              "      <td>unknown</td>\n",
              "      <td>Status quo will not be disturbed at Ayodhya; s...</td>\n",
              "      <td>2001-01-02</td>\n",
              "    </tr>\n",
              "    <tr>\n",
              "      <th>1</th>\n",
              "      <td>unknown</td>\n",
              "      <td>Fissures in Hurriyat over Pak visit</td>\n",
              "      <td>2001-01-02</td>\n",
              "    </tr>\n",
              "    <tr>\n",
              "      <th>2</th>\n",
              "      <td>unknown</td>\n",
              "      <td>America's unwanted heading for India?</td>\n",
              "      <td>2001-01-02</td>\n",
              "    </tr>\n",
              "    <tr>\n",
              "      <th>3</th>\n",
              "      <td>unknown</td>\n",
              "      <td>For bigwigs; it is destination Goa</td>\n",
              "      <td>2001-01-02</td>\n",
              "    </tr>\n",
              "    <tr>\n",
              "      <th>4</th>\n",
              "      <td>unknown</td>\n",
              "      <td>Extra buses to clear tourist traffic</td>\n",
              "      <td>2001-01-02</td>\n",
              "    </tr>\n",
              "    <tr>\n",
              "      <th>...</th>\n",
              "      <td>...</td>\n",
              "      <td>...</td>\n",
              "      <td>...</td>\n",
              "    </tr>\n",
              "    <tr>\n",
              "      <th>3650965</th>\n",
              "      <td>city.srinagar</td>\n",
              "      <td>J&amp;K sacks 2 cops; 3 other employees over terro...</td>\n",
              "      <td>2022-03-31</td>\n",
              "    </tr>\n",
              "    <tr>\n",
              "      <th>3650966</th>\n",
              "      <td>entertainment.hindi.bollywood</td>\n",
              "      <td>Ranbir Kapoor says 'Rishi Kapoor enjoyed his a...</td>\n",
              "      <td>2022-03-31</td>\n",
              "    </tr>\n",
              "    <tr>\n",
              "      <th>3650967</th>\n",
              "      <td>city.trichy</td>\n",
              "      <td>As Covid-19 cases drop to nil in southern dist...</td>\n",
              "      <td>2022-03-31</td>\n",
              "    </tr>\n",
              "    <tr>\n",
              "      <th>3650968</th>\n",
              "      <td>city.erode</td>\n",
              "      <td>Tamil Nadu sees marginal rise of Covid cases w...</td>\n",
              "      <td>2022-03-31</td>\n",
              "    </tr>\n",
              "    <tr>\n",
              "      <th>3650969</th>\n",
              "      <td>city.salem</td>\n",
              "      <td>Tamil Nadu sees marginal rise of Covid cases w...</td>\n",
              "      <td>2022-03-31</td>\n",
              "    </tr>\n",
              "  </tbody>\n",
              "</table>\n",
              "<p>3650970 rows × 3 columns</p>\n",
              "</div>\n",
              "      <button class=\"colab-df-convert\" onclick=\"convertToInteractive('df-62100413-8579-40b8-9276-bad8d659928c')\"\n",
              "              title=\"Convert this dataframe to an interactive table.\"\n",
              "              style=\"display:none;\">\n",
              "        \n",
              "  <svg xmlns=\"http://www.w3.org/2000/svg\" height=\"24px\"viewBox=\"0 0 24 24\"\n",
              "       width=\"24px\">\n",
              "    <path d=\"M0 0h24v24H0V0z\" fill=\"none\"/>\n",
              "    <path d=\"M18.56 5.44l.94 2.06.94-2.06 2.06-.94-2.06-.94-.94-2.06-.94 2.06-2.06.94zm-11 1L8.5 8.5l.94-2.06 2.06-.94-2.06-.94L8.5 2.5l-.94 2.06-2.06.94zm10 10l.94 2.06.94-2.06 2.06-.94-2.06-.94-.94-2.06-.94 2.06-2.06.94z\"/><path d=\"M17.41 7.96l-1.37-1.37c-.4-.4-.92-.59-1.43-.59-.52 0-1.04.2-1.43.59L10.3 9.45l-7.72 7.72c-.78.78-.78 2.05 0 2.83L4 21.41c.39.39.9.59 1.41.59.51 0 1.02-.2 1.41-.59l7.78-7.78 2.81-2.81c.8-.78.8-2.07 0-2.86zM5.41 20L4 18.59l7.72-7.72 1.47 1.35L5.41 20z\"/>\n",
              "  </svg>\n",
              "      </button>\n",
              "      \n",
              "  <style>\n",
              "    .colab-df-container {\n",
              "      display:flex;\n",
              "      flex-wrap:wrap;\n",
              "      gap: 12px;\n",
              "    }\n",
              "\n",
              "    .colab-df-convert {\n",
              "      background-color: #E8F0FE;\n",
              "      border: none;\n",
              "      border-radius: 50%;\n",
              "      cursor: pointer;\n",
              "      display: none;\n",
              "      fill: #1967D2;\n",
              "      height: 32px;\n",
              "      padding: 0 0 0 0;\n",
              "      width: 32px;\n",
              "    }\n",
              "\n",
              "    .colab-df-convert:hover {\n",
              "      background-color: #E2EBFA;\n",
              "      box-shadow: 0px 1px 2px rgba(60, 64, 67, 0.3), 0px 1px 3px 1px rgba(60, 64, 67, 0.15);\n",
              "      fill: #174EA6;\n",
              "    }\n",
              "\n",
              "    [theme=dark] .colab-df-convert {\n",
              "      background-color: #3B4455;\n",
              "      fill: #D2E3FC;\n",
              "    }\n",
              "\n",
              "    [theme=dark] .colab-df-convert:hover {\n",
              "      background-color: #434B5C;\n",
              "      box-shadow: 0px 1px 3px 1px rgba(0, 0, 0, 0.15);\n",
              "      filter: drop-shadow(0px 1px 2px rgba(0, 0, 0, 0.3));\n",
              "      fill: #FFFFFF;\n",
              "    }\n",
              "  </style>\n",
              "\n",
              "      <script>\n",
              "        const buttonEl =\n",
              "          document.querySelector('#df-62100413-8579-40b8-9276-bad8d659928c button.colab-df-convert');\n",
              "        buttonEl.style.display =\n",
              "          google.colab.kernel.accessAllowed ? 'block' : 'none';\n",
              "\n",
              "        async function convertToInteractive(key) {\n",
              "          const element = document.querySelector('#df-62100413-8579-40b8-9276-bad8d659928c');\n",
              "          const dataTable =\n",
              "            await google.colab.kernel.invokeFunction('convertToInteractive',\n",
              "                                                     [key], {});\n",
              "          if (!dataTable) return;\n",
              "\n",
              "          const docLinkHtml = 'Like what you see? Visit the ' +\n",
              "            '<a target=\"_blank\" href=https://colab.research.google.com/notebooks/data_table.ipynb>data table notebook</a>'\n",
              "            + ' to learn more about interactive tables.';\n",
              "          element.innerHTML = '';\n",
              "          dataTable['output_type'] = 'display_data';\n",
              "          await google.colab.output.renderOutput(dataTable, element);\n",
              "          const docLink = document.createElement('div');\n",
              "          docLink.innerHTML = docLinkHtml;\n",
              "          element.appendChild(docLink);\n",
              "        }\n",
              "      </script>\n",
              "    </div>\n",
              "  </div>\n",
              "  "
            ]
          },
          "metadata": {},
          "execution_count": 6
        }
      ]
    },
    {
      "cell_type": "code",
      "source": [
        "# Removing Category column\n",
        "df.drop('headline_category', axis = 1, inplace=True)\n",
        "news_df= df\n",
        "news_df.head(5)"
      ],
      "metadata": {
        "id": "sz70HIBnY0JR",
        "colab": {
          "base_uri": "https://localhost:8080/",
          "height": 206
        },
        "outputId": "03d49d14-782f-4788-aa31-15da24307c7a"
      },
      "execution_count": 7,
      "outputs": [
        {
          "output_type": "execute_result",
          "data": {
            "text/plain": [
              "                                       headline_text       Date\n",
              "0  Status quo will not be disturbed at Ayodhya; s... 2001-01-02\n",
              "1                Fissures in Hurriyat over Pak visit 2001-01-02\n",
              "2              America's unwanted heading for India? 2001-01-02\n",
              "3                 For bigwigs; it is destination Goa 2001-01-02\n",
              "4               Extra buses to clear tourist traffic 2001-01-02"
            ],
            "text/html": [
              "\n",
              "  <div id=\"df-6ef4dcfc-6d1a-4f8a-a6ac-7cbd2e029031\">\n",
              "    <div class=\"colab-df-container\">\n",
              "      <div>\n",
              "<style scoped>\n",
              "    .dataframe tbody tr th:only-of-type {\n",
              "        vertical-align: middle;\n",
              "    }\n",
              "\n",
              "    .dataframe tbody tr th {\n",
              "        vertical-align: top;\n",
              "    }\n",
              "\n",
              "    .dataframe thead th {\n",
              "        text-align: right;\n",
              "    }\n",
              "</style>\n",
              "<table border=\"1\" class=\"dataframe\">\n",
              "  <thead>\n",
              "    <tr style=\"text-align: right;\">\n",
              "      <th></th>\n",
              "      <th>headline_text</th>\n",
              "      <th>Date</th>\n",
              "    </tr>\n",
              "  </thead>\n",
              "  <tbody>\n",
              "    <tr>\n",
              "      <th>0</th>\n",
              "      <td>Status quo will not be disturbed at Ayodhya; s...</td>\n",
              "      <td>2001-01-02</td>\n",
              "    </tr>\n",
              "    <tr>\n",
              "      <th>1</th>\n",
              "      <td>Fissures in Hurriyat over Pak visit</td>\n",
              "      <td>2001-01-02</td>\n",
              "    </tr>\n",
              "    <tr>\n",
              "      <th>2</th>\n",
              "      <td>America's unwanted heading for India?</td>\n",
              "      <td>2001-01-02</td>\n",
              "    </tr>\n",
              "    <tr>\n",
              "      <th>3</th>\n",
              "      <td>For bigwigs; it is destination Goa</td>\n",
              "      <td>2001-01-02</td>\n",
              "    </tr>\n",
              "    <tr>\n",
              "      <th>4</th>\n",
              "      <td>Extra buses to clear tourist traffic</td>\n",
              "      <td>2001-01-02</td>\n",
              "    </tr>\n",
              "  </tbody>\n",
              "</table>\n",
              "</div>\n",
              "      <button class=\"colab-df-convert\" onclick=\"convertToInteractive('df-6ef4dcfc-6d1a-4f8a-a6ac-7cbd2e029031')\"\n",
              "              title=\"Convert this dataframe to an interactive table.\"\n",
              "              style=\"display:none;\">\n",
              "        \n",
              "  <svg xmlns=\"http://www.w3.org/2000/svg\" height=\"24px\"viewBox=\"0 0 24 24\"\n",
              "       width=\"24px\">\n",
              "    <path d=\"M0 0h24v24H0V0z\" fill=\"none\"/>\n",
              "    <path d=\"M18.56 5.44l.94 2.06.94-2.06 2.06-.94-2.06-.94-.94-2.06-.94 2.06-2.06.94zm-11 1L8.5 8.5l.94-2.06 2.06-.94-2.06-.94L8.5 2.5l-.94 2.06-2.06.94zm10 10l.94 2.06.94-2.06 2.06-.94-2.06-.94-.94-2.06-.94 2.06-2.06.94z\"/><path d=\"M17.41 7.96l-1.37-1.37c-.4-.4-.92-.59-1.43-.59-.52 0-1.04.2-1.43.59L10.3 9.45l-7.72 7.72c-.78.78-.78 2.05 0 2.83L4 21.41c.39.39.9.59 1.41.59.51 0 1.02-.2 1.41-.59l7.78-7.78 2.81-2.81c.8-.78.8-2.07 0-2.86zM5.41 20L4 18.59l7.72-7.72 1.47 1.35L5.41 20z\"/>\n",
              "  </svg>\n",
              "      </button>\n",
              "      \n",
              "  <style>\n",
              "    .colab-df-container {\n",
              "      display:flex;\n",
              "      flex-wrap:wrap;\n",
              "      gap: 12px;\n",
              "    }\n",
              "\n",
              "    .colab-df-convert {\n",
              "      background-color: #E8F0FE;\n",
              "      border: none;\n",
              "      border-radius: 50%;\n",
              "      cursor: pointer;\n",
              "      display: none;\n",
              "      fill: #1967D2;\n",
              "      height: 32px;\n",
              "      padding: 0 0 0 0;\n",
              "      width: 32px;\n",
              "    }\n",
              "\n",
              "    .colab-df-convert:hover {\n",
              "      background-color: #E2EBFA;\n",
              "      box-shadow: 0px 1px 2px rgba(60, 64, 67, 0.3), 0px 1px 3px 1px rgba(60, 64, 67, 0.15);\n",
              "      fill: #174EA6;\n",
              "    }\n",
              "\n",
              "    [theme=dark] .colab-df-convert {\n",
              "      background-color: #3B4455;\n",
              "      fill: #D2E3FC;\n",
              "    }\n",
              "\n",
              "    [theme=dark] .colab-df-convert:hover {\n",
              "      background-color: #434B5C;\n",
              "      box-shadow: 0px 1px 3px 1px rgba(0, 0, 0, 0.15);\n",
              "      filter: drop-shadow(0px 1px 2px rgba(0, 0, 0, 0.3));\n",
              "      fill: #FFFFFF;\n",
              "    }\n",
              "  </style>\n",
              "\n",
              "      <script>\n",
              "        const buttonEl =\n",
              "          document.querySelector('#df-6ef4dcfc-6d1a-4f8a-a6ac-7cbd2e029031 button.colab-df-convert');\n",
              "        buttonEl.style.display =\n",
              "          google.colab.kernel.accessAllowed ? 'block' : 'none';\n",
              "\n",
              "        async function convertToInteractive(key) {\n",
              "          const element = document.querySelector('#df-6ef4dcfc-6d1a-4f8a-a6ac-7cbd2e029031');\n",
              "          const dataTable =\n",
              "            await google.colab.kernel.invokeFunction('convertToInteractive',\n",
              "                                                     [key], {});\n",
              "          if (!dataTable) return;\n",
              "\n",
              "          const docLinkHtml = 'Like what you see? Visit the ' +\n",
              "            '<a target=\"_blank\" href=https://colab.research.google.com/notebooks/data_table.ipynb>data table notebook</a>'\n",
              "            + ' to learn more about interactive tables.';\n",
              "          element.innerHTML = '';\n",
              "          dataTable['output_type'] = 'display_data';\n",
              "          await google.colab.output.renderOutput(dataTable, element);\n",
              "          const docLink = document.createElement('div');\n",
              "          docLink.innerHTML = docLinkHtml;\n",
              "          element.appendChild(docLink);\n",
              "        }\n",
              "      </script>\n",
              "    </div>\n",
              "  </div>\n",
              "  "
            ]
          },
          "metadata": {},
          "execution_count": 7
        }
      ]
    },
    {
      "cell_type": "code",
      "source": [
        "# Considering only some samples for analysis\n",
        "news_df1=news_df.tail(300000)\n"
      ],
      "metadata": {
        "id": "yZr2T18zfGvg"
      },
      "execution_count": 55,
      "outputs": []
    },
    {
      "cell_type": "code",
      "source": [
        "# Textblob working \n",
        "test='I am a not very good boy'\n",
        "TextBlob(test).sentiment"
      ],
      "metadata": {
        "id": "BEr6LD6UkpF0",
        "colab": {
          "base_uri": "https://localhost:8080/"
        },
        "outputId": "68c4cc69-9392-4693-8512-947a56fd808f"
      },
      "execution_count": 56,
      "outputs": [
        {
          "output_type": "execute_result",
          "data": {
            "text/plain": [
              "Sentiment(polarity=-0.26923076923076916, subjectivity=0.46153846153846156)"
            ]
          },
          "metadata": {},
          "execution_count": 56
        }
      ]
    },
    {
      "cell_type": "code",
      "source": [
        "#Fucntions to obtain polarity and subjectivity from the text\n",
        "def polarity(text):\n",
        "  pol_val=TextBlob(text).sentiment.polarity\n",
        "  return pol_val\n",
        "def subjectivity(text):\n",
        "  sub_val=TextBlob(text).sentiment.subjectivity\n",
        "  return sub_val"
      ],
      "metadata": {
        "id": "63wgjzZgn12g"
      },
      "execution_count": 57,
      "outputs": []
    },
    {
      "cell_type": "code",
      "source": [
        "news_df1['polarity']= news_df1['headline_text'].apply(polarity)"
      ],
      "metadata": {
        "id": "U8jGXFt5n156"
      },
      "execution_count": 58,
      "outputs": []
    },
    {
      "cell_type": "code",
      "source": [
        "news_df1['subjectivity']= news_df1['headline_text'].apply(subjectivity)"
      ],
      "metadata": {
        "id": "z5RwAhggn18z"
      },
      "execution_count": 59,
      "outputs": []
    },
    {
      "cell_type": "code",
      "source": [
        "# Function for Sentiment analysis\n",
        "def sentiment_analysis(polarity_val):\n",
        "  if polarity_val>0:\n",
        "    senti_val='Positive'\n",
        "  elif polarity_val==0:\n",
        "    senti_val=\"Neutral\"\n",
        "  else:\n",
        "    senti_val='Negative'\n",
        "  return senti_val"
      ],
      "metadata": {
        "id": "lrUeYaPzn1_e"
      },
      "execution_count": 60,
      "outputs": []
    },
    {
      "cell_type": "code",
      "source": [
        "news_df1['Sentiment']=news_df1['polarity'].apply(sentiment_analysis)"
      ],
      "metadata": {
        "id": "JRcIcmPFn2CR"
      },
      "execution_count": 61,
      "outputs": []
    },
    {
      "cell_type": "code",
      "source": [
        "news_df1"
      ],
      "metadata": {
        "id": "DmIYvnYZn2E9",
        "colab": {
          "base_uri": "https://localhost:8080/",
          "height": 424
        },
        "outputId": "a7ccb251-5c57-4fc3-f10d-5c205fc86ba2"
      },
      "execution_count": 62,
      "outputs": [
        {
          "output_type": "execute_result",
          "data": {
            "text/plain": [
              "                                             headline_text       Date  \\\n",
              "3350970  Mohali: Bajwa Developers managing director in ... 2020-08-07   \n",
              "3350971              Couple moves HC to talk to grandchild 2020-08-07   \n",
              "3350972      West Bengal CM warns against fake Covid tests 2020-08-07   \n",
              "3350973        Elderly woman loses gold chain to snatchers 2020-08-07   \n",
              "3350974    'Mission Zero Mortality' launched in Aurangabad 2020-08-07   \n",
              "...                                                    ...        ...   \n",
              "3650965  J&K sacks 2 cops; 3 other employees over terro... 2022-03-31   \n",
              "3650966  Ranbir Kapoor says 'Rishi Kapoor enjoyed his a... 2022-03-31   \n",
              "3650967  As Covid-19 cases drop to nil in southern dist... 2022-03-31   \n",
              "3650968  Tamil Nadu sees marginal rise of Covid cases w... 2022-03-31   \n",
              "3650969  Tamil Nadu sees marginal rise of Covid cases w... 2022-03-31   \n",
              "\n",
              "         polarity  subjectivity Sentiment  \n",
              "3350970  0.000000      0.000000   Neutral  \n",
              "3350971  0.000000      0.000000   Neutral  \n",
              "3350972 -0.500000      1.000000  Negative  \n",
              "3350973 -0.300000      0.100000  Negative  \n",
              "3350974  0.000000      0.000000   Neutral  \n",
              "...           ...           ...       ...  \n",
              "3650965 -0.125000      0.375000  Negative  \n",
              "3650966  0.100000      0.550000  Positive  \n",
              "3650967  0.000000      0.000000   Neutral  \n",
              "3650968  0.136364      0.454545  Positive  \n",
              "3650969  0.136364      0.454545  Positive  \n",
              "\n",
              "[300000 rows x 5 columns]"
            ],
            "text/html": [
              "\n",
              "  <div id=\"df-718ea406-bb57-4e56-9b28-6a8377ca0dc4\">\n",
              "    <div class=\"colab-df-container\">\n",
              "      <div>\n",
              "<style scoped>\n",
              "    .dataframe tbody tr th:only-of-type {\n",
              "        vertical-align: middle;\n",
              "    }\n",
              "\n",
              "    .dataframe tbody tr th {\n",
              "        vertical-align: top;\n",
              "    }\n",
              "\n",
              "    .dataframe thead th {\n",
              "        text-align: right;\n",
              "    }\n",
              "</style>\n",
              "<table border=\"1\" class=\"dataframe\">\n",
              "  <thead>\n",
              "    <tr style=\"text-align: right;\">\n",
              "      <th></th>\n",
              "      <th>headline_text</th>\n",
              "      <th>Date</th>\n",
              "      <th>polarity</th>\n",
              "      <th>subjectivity</th>\n",
              "      <th>Sentiment</th>\n",
              "    </tr>\n",
              "  </thead>\n",
              "  <tbody>\n",
              "    <tr>\n",
              "      <th>3350970</th>\n",
              "      <td>Mohali: Bajwa Developers managing director in ...</td>\n",
              "      <td>2020-08-07</td>\n",
              "      <td>0.000000</td>\n",
              "      <td>0.000000</td>\n",
              "      <td>Neutral</td>\n",
              "    </tr>\n",
              "    <tr>\n",
              "      <th>3350971</th>\n",
              "      <td>Couple moves HC to talk to grandchild</td>\n",
              "      <td>2020-08-07</td>\n",
              "      <td>0.000000</td>\n",
              "      <td>0.000000</td>\n",
              "      <td>Neutral</td>\n",
              "    </tr>\n",
              "    <tr>\n",
              "      <th>3350972</th>\n",
              "      <td>West Bengal CM warns against fake Covid tests</td>\n",
              "      <td>2020-08-07</td>\n",
              "      <td>-0.500000</td>\n",
              "      <td>1.000000</td>\n",
              "      <td>Negative</td>\n",
              "    </tr>\n",
              "    <tr>\n",
              "      <th>3350973</th>\n",
              "      <td>Elderly woman loses gold chain to snatchers</td>\n",
              "      <td>2020-08-07</td>\n",
              "      <td>-0.300000</td>\n",
              "      <td>0.100000</td>\n",
              "      <td>Negative</td>\n",
              "    </tr>\n",
              "    <tr>\n",
              "      <th>3350974</th>\n",
              "      <td>'Mission Zero Mortality' launched in Aurangabad</td>\n",
              "      <td>2020-08-07</td>\n",
              "      <td>0.000000</td>\n",
              "      <td>0.000000</td>\n",
              "      <td>Neutral</td>\n",
              "    </tr>\n",
              "    <tr>\n",
              "      <th>...</th>\n",
              "      <td>...</td>\n",
              "      <td>...</td>\n",
              "      <td>...</td>\n",
              "      <td>...</td>\n",
              "      <td>...</td>\n",
              "    </tr>\n",
              "    <tr>\n",
              "      <th>3650965</th>\n",
              "      <td>J&amp;K sacks 2 cops; 3 other employees over terro...</td>\n",
              "      <td>2022-03-31</td>\n",
              "      <td>-0.125000</td>\n",
              "      <td>0.375000</td>\n",
              "      <td>Negative</td>\n",
              "    </tr>\n",
              "    <tr>\n",
              "      <th>3650966</th>\n",
              "      <td>Ranbir Kapoor says 'Rishi Kapoor enjoyed his a...</td>\n",
              "      <td>2022-03-31</td>\n",
              "      <td>0.100000</td>\n",
              "      <td>0.550000</td>\n",
              "      <td>Positive</td>\n",
              "    </tr>\n",
              "    <tr>\n",
              "      <th>3650967</th>\n",
              "      <td>As Covid-19 cases drop to nil in southern dist...</td>\n",
              "      <td>2022-03-31</td>\n",
              "      <td>0.000000</td>\n",
              "      <td>0.000000</td>\n",
              "      <td>Neutral</td>\n",
              "    </tr>\n",
              "    <tr>\n",
              "      <th>3650968</th>\n",
              "      <td>Tamil Nadu sees marginal rise of Covid cases w...</td>\n",
              "      <td>2022-03-31</td>\n",
              "      <td>0.136364</td>\n",
              "      <td>0.454545</td>\n",
              "      <td>Positive</td>\n",
              "    </tr>\n",
              "    <tr>\n",
              "      <th>3650969</th>\n",
              "      <td>Tamil Nadu sees marginal rise of Covid cases w...</td>\n",
              "      <td>2022-03-31</td>\n",
              "      <td>0.136364</td>\n",
              "      <td>0.454545</td>\n",
              "      <td>Positive</td>\n",
              "    </tr>\n",
              "  </tbody>\n",
              "</table>\n",
              "<p>300000 rows × 5 columns</p>\n",
              "</div>\n",
              "      <button class=\"colab-df-convert\" onclick=\"convertToInteractive('df-718ea406-bb57-4e56-9b28-6a8377ca0dc4')\"\n",
              "              title=\"Convert this dataframe to an interactive table.\"\n",
              "              style=\"display:none;\">\n",
              "        \n",
              "  <svg xmlns=\"http://www.w3.org/2000/svg\" height=\"24px\"viewBox=\"0 0 24 24\"\n",
              "       width=\"24px\">\n",
              "    <path d=\"M0 0h24v24H0V0z\" fill=\"none\"/>\n",
              "    <path d=\"M18.56 5.44l.94 2.06.94-2.06 2.06-.94-2.06-.94-.94-2.06-.94 2.06-2.06.94zm-11 1L8.5 8.5l.94-2.06 2.06-.94-2.06-.94L8.5 2.5l-.94 2.06-2.06.94zm10 10l.94 2.06.94-2.06 2.06-.94-2.06-.94-.94-2.06-.94 2.06-2.06.94z\"/><path d=\"M17.41 7.96l-1.37-1.37c-.4-.4-.92-.59-1.43-.59-.52 0-1.04.2-1.43.59L10.3 9.45l-7.72 7.72c-.78.78-.78 2.05 0 2.83L4 21.41c.39.39.9.59 1.41.59.51 0 1.02-.2 1.41-.59l7.78-7.78 2.81-2.81c.8-.78.8-2.07 0-2.86zM5.41 20L4 18.59l7.72-7.72 1.47 1.35L5.41 20z\"/>\n",
              "  </svg>\n",
              "      </button>\n",
              "      \n",
              "  <style>\n",
              "    .colab-df-container {\n",
              "      display:flex;\n",
              "      flex-wrap:wrap;\n",
              "      gap: 12px;\n",
              "    }\n",
              "\n",
              "    .colab-df-convert {\n",
              "      background-color: #E8F0FE;\n",
              "      border: none;\n",
              "      border-radius: 50%;\n",
              "      cursor: pointer;\n",
              "      display: none;\n",
              "      fill: #1967D2;\n",
              "      height: 32px;\n",
              "      padding: 0 0 0 0;\n",
              "      width: 32px;\n",
              "    }\n",
              "\n",
              "    .colab-df-convert:hover {\n",
              "      background-color: #E2EBFA;\n",
              "      box-shadow: 0px 1px 2px rgba(60, 64, 67, 0.3), 0px 1px 3px 1px rgba(60, 64, 67, 0.15);\n",
              "      fill: #174EA6;\n",
              "    }\n",
              "\n",
              "    [theme=dark] .colab-df-convert {\n",
              "      background-color: #3B4455;\n",
              "      fill: #D2E3FC;\n",
              "    }\n",
              "\n",
              "    [theme=dark] .colab-df-convert:hover {\n",
              "      background-color: #434B5C;\n",
              "      box-shadow: 0px 1px 3px 1px rgba(0, 0, 0, 0.15);\n",
              "      filter: drop-shadow(0px 1px 2px rgba(0, 0, 0, 0.3));\n",
              "      fill: #FFFFFF;\n",
              "    }\n",
              "  </style>\n",
              "\n",
              "      <script>\n",
              "        const buttonEl =\n",
              "          document.querySelector('#df-718ea406-bb57-4e56-9b28-6a8377ca0dc4 button.colab-df-convert');\n",
              "        buttonEl.style.display =\n",
              "          google.colab.kernel.accessAllowed ? 'block' : 'none';\n",
              "\n",
              "        async function convertToInteractive(key) {\n",
              "          const element = document.querySelector('#df-718ea406-bb57-4e56-9b28-6a8377ca0dc4');\n",
              "          const dataTable =\n",
              "            await google.colab.kernel.invokeFunction('convertToInteractive',\n",
              "                                                     [key], {});\n",
              "          if (!dataTable) return;\n",
              "\n",
              "          const docLinkHtml = 'Like what you see? Visit the ' +\n",
              "            '<a target=\"_blank\" href=https://colab.research.google.com/notebooks/data_table.ipynb>data table notebook</a>'\n",
              "            + ' to learn more about interactive tables.';\n",
              "          element.innerHTML = '';\n",
              "          dataTable['output_type'] = 'display_data';\n",
              "          await google.colab.output.renderOutput(dataTable, element);\n",
              "          const docLink = document.createElement('div');\n",
              "          docLink.innerHTML = docLinkHtml;\n",
              "          element.appendChild(docLink);\n",
              "        }\n",
              "      </script>\n",
              "    </div>\n",
              "  </div>\n",
              "  "
            ]
          },
          "metadata": {},
          "execution_count": 62
        }
      ]
    },
    {
      "cell_type": "code",
      "source": [
        "#Dropping duplicate rows\n",
        "news_df1.drop_duplicates(inplace=True)"
      ],
      "metadata": {
        "id": "sgoHCwHgn2Hr"
      },
      "execution_count": 63,
      "outputs": []
    },
    {
      "cell_type": "code",
      "source": [
        "news_df1.reset_index(inplace=True)"
      ],
      "metadata": {
        "id": "3_3ShoDqn2Ka"
      },
      "execution_count": 64,
      "outputs": []
    },
    {
      "cell_type": "code",
      "source": [
        "news_df1.drop(columns='index',inplace=True)"
      ],
      "metadata": {
        "id": "CnpOko6xn2Mx"
      },
      "execution_count": 65,
      "outputs": []
    },
    {
      "cell_type": "code",
      "source": [
        "#Visualizing the number of Poitive,Negative and Neutral classes\n",
        "plt.figure(figsize=(8,5))\n",
        "plt.xlabel('Sentiment')\n",
        "plt.ylabel('Total values')\n",
        "news_df1['Sentiment'].value_counts().plot(kind='bar')"
      ],
      "metadata": {
        "id": "a7XfO5t0n2Pm",
        "colab": {
          "base_uri": "https://localhost:8080/",
          "height": 386
        },
        "outputId": "d5e7bd87-ac26-43b3-910d-98fce29e4940"
      },
      "execution_count": 66,
      "outputs": [
        {
          "output_type": "execute_result",
          "data": {
            "text/plain": [
              "<matplotlib.axes._subplots.AxesSubplot at 0x7f28f68d6390>"
            ]
          },
          "metadata": {},
          "execution_count": 66
        },
        {
          "output_type": "display_data",
          "data": {
            "text/plain": [
              "<Figure size 576x360 with 1 Axes>"
            ],
            "image/png": "[encoded data removed]"
          },
          "metadata": {
            "needs_background": "light"
          }
        }
      ]
    },
    {
      "cell_type": "markdown",
      "source": [
        "Numerical Data Analysis"
      ],
      "metadata": {
        "id": "YrrepgFA7GP1"
      }
    },
    {
      "cell_type": "code",
      "source": [
        "import yfinance as yf"
      ],
      "metadata": {
        "id": "bmaMsA0MVQcJ"
      },
      "execution_count": 20,
      "outputs": []
    },
    {
      "cell_type": "code",
      "source": [
        "num_df=yf.download('^BSESN', start='2015-01-01', end='2022-01-30')"
      ],
      "metadata": {
        "id": "jidHNAluVC4A",
        "colab": {
          "base_uri": "https://localhost:8080/"
        },
        "outputId": "a3c21bb8-7629-49dd-81e1-3458d9712ffe"
      },
      "execution_count": 21,
      "outputs": [
        {
          "output_type": "stream",
          "name": "stdout",
          "text": [
            "\r[*********************100%***********************]  1 of 1 completed\n"
          ]
        }
      ]
    },
    {
      "cell_type": "code",
      "source": [
        "num_df.head(5)"
      ],
      "metadata": {
        "id": "FXz5szch6pxA",
        "colab": {
          "base_uri": "https://localhost:8080/",
          "height": 238
        },
        "outputId": "6d013b96-8f63-44e0-8b4a-9e46bf2df998"
      },
      "execution_count": 22,
      "outputs": [
        {
          "output_type": "execute_result",
          "data": {
            "text/plain": [
              "                    Open          High           Low         Close  \\\n",
              "Date                                                                 \n",
              "2015-01-02  27521.279297  27937.470703  27519.259766  27887.900391   \n",
              "2015-01-05  27978.429688  28064.490234  27786.849609  27842.320312   \n",
              "2015-01-06  27694.230469  27698.929688  26937.060547  26987.460938   \n",
              "2015-01-07  26983.429688  27051.599609  26776.119141  26908.820312   \n",
              "2015-01-08  27178.769531  27316.410156  27101.939453  27274.710938   \n",
              "\n",
              "               Adj Close  Volume  \n",
              "Date                              \n",
              "2015-01-02  27887.900391    7400  \n",
              "2015-01-05  27842.320312    9200  \n",
              "2015-01-06  26987.460938   14100  \n",
              "2015-01-07  26908.820312   12200  \n",
              "2015-01-08  27274.710938    8200  "
            ],
            "text/html": [
              "\n",
              "  <div id=\"df-498cc01c-c896-41e0-8cc3-3fa51581377f\">\n",
              "    <div class=\"colab-df-container\">\n",
              "      <div>\n",
              "<style scoped>\n",
              "    .dataframe tbody tr th:only-of-type {\n",
              "        vertical-align: middle;\n",
              "    }\n",
              "\n",
              "    .dataframe tbody tr th {\n",
              "        vertical-align: top;\n",
              "    }\n",
              "\n",
              "    .dataframe thead th {\n",
              "        text-align: right;\n",
              "    }\n",
              "</style>\n",
              "<table border=\"1\" class=\"dataframe\">\n",
              "  <thead>\n",
              "    <tr style=\"text-align: right;\">\n",
              "      <th></th>\n",
              "      <th>Open</th>\n",
              "      <th>High</th>\n",
              "      <th>Low</th>\n",
              "      <th>Close</th>\n",
              "      <th>Adj Close</th>\n",
              "      <th>Volume</th>\n",
              "    </tr>\n",
              "    <tr>\n",
              "      <th>Date</th>\n",
              "      <th></th>\n",
              "      <th></th>\n",
              "      <th></th>\n",
              "      <th></th>\n",
              "      <th></th>\n",
              "      <th></th>\n",
              "    </tr>\n",
              "  </thead>\n",
              "  <tbody>\n",
              "    <tr>\n",
              "      <th>2015-01-02</th>\n",
              "      <td>27521.279297</td>\n",
              "      <td>27937.470703</td>\n",
              "      <td>27519.259766</td>\n",
              "      <td>27887.900391</td>\n",
              "      <td>27887.900391</td>\n",
              "      <td>7400</td>\n",
              "    </tr>\n",
              "    <tr>\n",
              "      <th>2015-01-05</th>\n",
              "      <td>27978.429688</td>\n",
              "      <td>28064.490234</td>\n",
              "      <td>27786.849609</td>\n",
              "      <td>27842.320312</td>\n",
              "      <td>27842.320312</td>\n",
              "      <td>9200</td>\n",
              "    </tr>\n",
              "    <tr>\n",
              "      <th>2015-01-06</th>\n",
              "      <td>27694.230469</td>\n",
              "      <td>27698.929688</td>\n",
              "      <td>26937.060547</td>\n",
              "      <td>26987.460938</td>\n",
              "      <td>26987.460938</td>\n",
              "      <td>14100</td>\n",
              "    </tr>\n",
              "    <tr>\n",
              "      <th>2015-01-07</th>\n",
              "      <td>26983.429688</td>\n",
              "      <td>27051.599609</td>\n",
              "      <td>26776.119141</td>\n",
              "      <td>26908.820312</td>\n",
              "      <td>26908.820312</td>\n",
              "      <td>12200</td>\n",
              "    </tr>\n",
              "    <tr>\n",
              "      <th>2015-01-08</th>\n",
              "      <td>27178.769531</td>\n",
              "      <td>27316.410156</td>\n",
              "      <td>27101.939453</td>\n",
              "      <td>27274.710938</td>\n",
              "      <td>27274.710938</td>\n",
              "      <td>8200</td>\n",
              "    </tr>\n",
              "  </tbody>\n",
              "</table>\n",
              "</div>\n",
              "      <button class=\"colab-df-convert\" onclick=\"convertToInteractive('df-498cc01c-c896-41e0-8cc3-3fa51581377f')\"\n",
              "              title=\"Convert this dataframe to an interactive table.\"\n",
              "              style=\"display:none;\">\n",
              "        \n",
              "  <svg xmlns=\"http://www.w3.org/2000/svg\" height=\"24px\"viewBox=\"0 0 24 24\"\n",
              "       width=\"24px\">\n",
              "    <path d=\"M0 0h24v24H0V0z\" fill=\"none\"/>\n",
              "    <path d=\"M18.56 5.44l.94 2.06.94-2.06 2.06-.94-2.06-.94-.94-2.06-.94 2.06-2.06.94zm-11 1L8.5 8.5l.94-2.06 2.06-.94-2.06-.94L8.5 2.5l-.94 2.06-2.06.94zm10 10l.94 2.06.94-2.06 2.06-.94-2.06-.94-.94-2.06-.94 2.06-2.06.94z\"/><path d=\"M17.41 7.96l-1.37-1.37c-.4-.4-.92-.59-1.43-.59-.52 0-1.04.2-1.43.59L10.3 9.45l-7.72 7.72c-.78.78-.78 2.05 0 2.83L4 21.41c.39.39.9.59 1.41.59.51 0 1.02-.2 1.41-.59l7.78-7.78 2.81-2.81c.8-.78.8-2.07 0-2.86zM5.41 20L4 18.59l7.72-7.72 1.47 1.35L5.41 20z\"/>\n",
              "  </svg>\n",
              "      </button>\n",
              "      \n",
              "  <style>\n",
              "    .colab-df-container {\n",
              "      display:flex;\n",
              "      flex-wrap:wrap;\n",
              "      gap: 12px;\n",
              "    }\n",
              "\n",
              "    .colab-df-convert {\n",
              "      background-color: #E8F0FE;\n",
              "      border: none;\n",
              "      border-radius: 50%;\n",
              "      cursor: pointer;\n",
              "      display: none;\n",
              "      fill: #1967D2;\n",
              "      height: 32px;\n",
              "      padding: 0 0 0 0;\n",
              "      width: 32px;\n",
              "    }\n",
              "\n",
              "    .colab-df-convert:hover {\n",
              "      background-color: #E2EBFA;\n",
              "      box-shadow: 0px 1px 2px rgba(60, 64, 67, 0.3), 0px 1px 3px 1px rgba(60, 64, 67, 0.15);\n",
              "      fill: #174EA6;\n",
              "    }\n",
              "\n",
              "    [theme=dark] .colab-df-convert {\n",
              "      background-color: #3B4455;\n",
              "      fill: #D2E3FC;\n",
              "    }\n",
              "\n",
              "    [theme=dark] .colab-df-convert:hover {\n",
              "      background-color: #434B5C;\n",
              "      box-shadow: 0px 1px 3px 1px rgba(0, 0, 0, 0.15);\n",
              "      filter: drop-shadow(0px 1px 2px rgba(0, 0, 0, 0.3));\n",
              "      fill: #FFFFFF;\n",
              "    }\n",
              "  </style>\n",
              "\n",
              "      <script>\n",
              "        const buttonEl =\n",
              "          document.querySelector('#df-498cc01c-c896-41e0-8cc3-3fa51581377f button.colab-df-convert');\n",
              "        buttonEl.style.display =\n",
              "          google.colab.kernel.accessAllowed ? 'block' : 'none';\n",
              "\n",
              "        async function convertToInteractive(key) {\n",
              "          const element = document.querySelector('#df-498cc01c-c896-41e0-8cc3-3fa51581377f');\n",
              "          const dataTable =\n",
              "            await google.colab.kernel.invokeFunction('convertToInteractive',\n",
              "                                                     [key], {});\n",
              "          if (!dataTable) return;\n",
              "\n",
              "          const docLinkHtml = 'Like what you see? Visit the ' +\n",
              "            '<a target=\"_blank\" href=https://colab.research.google.com/notebooks/data_table.ipynb>data table notebook</a>'\n",
              "            + ' to learn more about interactive tables.';\n",
              "          element.innerHTML = '';\n",
              "          dataTable['output_type'] = 'display_data';\n",
              "          await google.colab.output.renderOutput(dataTable, element);\n",
              "          const docLink = document.createElement('div');\n",
              "          docLink.innerHTML = docLinkHtml;\n",
              "          element.appendChild(docLink);\n",
              "        }\n",
              "      </script>\n",
              "    </div>\n",
              "  </div>\n",
              "  "
            ]
          },
          "metadata": {},
          "execution_count": 22
        }
      ]
    },
    {
      "cell_type": "code",
      "source": [
        "num_df.shape"
      ],
      "metadata": {
        "id": "qXzfXA1M6p0I",
        "colab": {
          "base_uri": "https://localhost:8080/"
        },
        "outputId": "35fb4284-6512-431e-bea8-55376ba9cf55"
      },
      "execution_count": 23,
      "outputs": [
        {
          "output_type": "execute_result",
          "data": {
            "text/plain": [
              "(1740, 6)"
            ]
          },
          "metadata": {},
          "execution_count": 23
        }
      ]
    },
    {
      "cell_type": "code",
      "source": [
        "num_df= num_df[['Close']]\n",
        "num_df.head(5)"
      ],
      "metadata": {
        "id": "cH74_lXo6p29",
        "colab": {
          "base_uri": "https://localhost:8080/",
          "height": 238
        },
        "outputId": "a0b2889e-9789-4ea5-f792-38f05cb94966"
      },
      "execution_count": 24,
      "outputs": [
        {
          "output_type": "execute_result",
          "data": {
            "text/plain": [
              "                   Close\n",
              "Date                    \n",
              "2015-01-02  27887.900391\n",
              "2015-01-05  27842.320312\n",
              "2015-01-06  26987.460938\n",
              "2015-01-07  26908.820312\n",
              "2015-01-08  27274.710938"
            ],
            "text/html": [
              "\n",
              "  <div id=\"df-ca997c5f-fe26-4e2a-8c12-b0d89ea9bb2b\">\n",
              "    <div class=\"colab-df-container\">\n",
              "      <div>\n",
              "<style scoped>\n",
              "    .dataframe tbody tr th:only-of-type {\n",
              "        vertical-align: middle;\n",
              "    }\n",
              "\n",
              "    .dataframe tbody tr th {\n",
              "        vertical-align: top;\n",
              "    }\n",
              "\n",
              "    .dataframe thead th {\n",
              "        text-align: right;\n",
              "    }\n",
              "</style>\n",
              "<table border=\"1\" class=\"dataframe\">\n",
              "  <thead>\n",
              "    <tr style=\"text-align: right;\">\n",
              "      <th></th>\n",
              "      <th>Close</th>\n",
              "    </tr>\n",
              "    <tr>\n",
              "      <th>Date</th>\n",
              "      <th></th>\n",
              "    </tr>\n",
              "  </thead>\n",
              "  <tbody>\n",
              "    <tr>\n",
              "      <th>2015-01-02</th>\n",
              "      <td>27887.900391</td>\n",
              "    </tr>\n",
              "    <tr>\n",
              "      <th>2015-01-05</th>\n",
              "      <td>27842.320312</td>\n",
              "    </tr>\n",
              "    <tr>\n",
              "      <th>2015-01-06</th>\n",
              "      <td>26987.460938</td>\n",
              "    </tr>\n",
              "    <tr>\n",
              "      <th>2015-01-07</th>\n",
              "      <td>26908.820312</td>\n",
              "    </tr>\n",
              "    <tr>\n",
              "      <th>2015-01-08</th>\n",
              "      <td>27274.710938</td>\n",
              "    </tr>\n",
              "  </tbody>\n",
              "</table>\n",
              "</div>\n",
              "      <button class=\"colab-df-convert\" onclick=\"convertToInteractive('df-ca997c5f-fe26-4e2a-8c12-b0d89ea9bb2b')\"\n",
              "              title=\"Convert this dataframe to an interactive table.\"\n",
              "              style=\"display:none;\">\n",
              "        \n",
              "  <svg xmlns=\"http://www.w3.org/2000/svg\" height=\"24px\"viewBox=\"0 0 24 24\"\n",
              "       width=\"24px\">\n",
              "    <path d=\"M0 0h24v24H0V0z\" fill=\"none\"/>\n",
              "    <path d=\"M18.56 5.44l.94 2.06.94-2.06 2.06-.94-2.06-.94-.94-2.06-.94 2.06-2.06.94zm-11 1L8.5 8.5l.94-2.06 2.06-.94-2.06-.94L8.5 2.5l-.94 2.06-2.06.94zm10 10l.94 2.06.94-2.06 2.06-.94-2.06-.94-.94-2.06-.94 2.06-2.06.94z\"/><path d=\"M17.41 7.96l-1.37-1.37c-.4-.4-.92-.59-1.43-.59-.52 0-1.04.2-1.43.59L10.3 9.45l-7.72 7.72c-.78.78-.78 2.05 0 2.83L4 21.41c.39.39.9.59 1.41.59.51 0 1.02-.2 1.41-.59l7.78-7.78 2.81-2.81c.8-.78.8-2.07 0-2.86zM5.41 20L4 18.59l7.72-7.72 1.47 1.35L5.41 20z\"/>\n",
              "  </svg>\n",
              "      </button>\n",
              "      \n",
              "  <style>\n",
              "    .colab-df-container {\n",
              "      display:flex;\n",
              "      flex-wrap:wrap;\n",
              "      gap: 12px;\n",
              "    }\n",
              "\n",
              "    .colab-df-convert {\n",
              "      background-color: #E8F0FE;\n",
              "      border: none;\n",
              "      border-radius: 50%;\n",
              "      cursor: pointer;\n",
              "      display: none;\n",
              "      fill: #1967D2;\n",
              "      height: 32px;\n",
              "      padding: 0 0 0 0;\n",
              "      width: 32px;\n",
              "    }\n",
              "\n",
              "    .colab-df-convert:hover {\n",
              "      background-color: #E2EBFA;\n",
              "      box-shadow: 0px 1px 2px rgba(60, 64, 67, 0.3), 0px 1px 3px 1px rgba(60, 64, 67, 0.15);\n",
              "      fill: #174EA6;\n",
              "    }\n",
              "\n",
              "    [theme=dark] .colab-df-convert {\n",
              "      background-color: #3B4455;\n",
              "      fill: #D2E3FC;\n",
              "    }\n",
              "\n",
              "    [theme=dark] .colab-df-convert:hover {\n",
              "      background-color: #434B5C;\n",
              "      box-shadow: 0px 1px 3px 1px rgba(0, 0, 0, 0.15);\n",
              "      filter: drop-shadow(0px 1px 2px rgba(0, 0, 0, 0.3));\n",
              "      fill: #FFFFFF;\n",
              "    }\n",
              "  </style>\n",
              "\n",
              "      <script>\n",
              "        const buttonEl =\n",
              "          document.querySelector('#df-ca997c5f-fe26-4e2a-8c12-b0d89ea9bb2b button.colab-df-convert');\n",
              "        buttonEl.style.display =\n",
              "          google.colab.kernel.accessAllowed ? 'block' : 'none';\n",
              "\n",
              "        async function convertToInteractive(key) {\n",
              "          const element = document.querySelector('#df-ca997c5f-fe26-4e2a-8c12-b0d89ea9bb2b');\n",
              "          const dataTable =\n",
              "            await google.colab.kernel.invokeFunction('convertToInteractive',\n",
              "                                                     [key], {});\n",
              "          if (!dataTable) return;\n",
              "\n",
              "          const docLinkHtml = 'Like what you see? Visit the ' +\n",
              "            '<a target=\"_blank\" href=https://colab.research.google.com/notebooks/data_table.ipynb>data table notebook</a>'\n",
              "            + ' to learn more about interactive tables.';\n",
              "          element.innerHTML = '';\n",
              "          dataTable['output_type'] = 'display_data';\n",
              "          await google.colab.output.renderOutput(dataTable, element);\n",
              "          const docLink = document.createElement('div');\n",
              "          docLink.innerHTML = docLinkHtml;\n",
              "          element.appendChild(docLink);\n",
              "        }\n",
              "      </script>\n",
              "    </div>\n",
              "  </div>\n",
              "  "
            ]
          },
          "metadata": {},
          "execution_count": 24
        }
      ]
    },
    {
      "cell_type": "code",
      "source": [
        "# Visualization\n",
        "# plotting the closing price\n",
        "index=num_df.index\n",
        "plt.figure(figsize=(10,7))\n",
        "sns.lineplot(x=index, y=num_df['Close'],color='red')"
      ],
      "metadata": {
        "id": "hJZvs0_P6p6Y",
        "colab": {
          "base_uri": "https://localhost:8080/",
          "height": 459
        },
        "outputId": "98bd2b50-1e5a-4da1-d913-c5ff135f889f"
      },
      "execution_count": 25,
      "outputs": [
        {
          "output_type": "execute_result",
          "data": {
            "text/plain": [
              "<matplotlib.axes._subplots.AxesSubplot at 0x7f2963648650>"
            ]
          },
          "metadata": {},
          "execution_count": 25
        },
        {
          "output_type": "display_data",
          "data": {
            "text/plain": [
              "<Figure size 720x504 with 1 Axes>"
            ],
            "image/png": "[encoded data removed]"
          },
          "metadata": {
            "needs_background": "light"
          }
        }
      ]
    },
    {
      "cell_type": "code",
      "source": [
        "# Data preprocessing\n",
        "scaler=MinMaxScaler(feature_range=(0,1))\n",
        "scaled_data=scaler.fit_transform(num_df)\n"
      ],
      "metadata": {
        "id": "GLmwKnWr6p8q"
      },
      "execution_count": 26,
      "outputs": []
    },
    {
      "cell_type": "code",
      "source": [
        "#Splitting the data \n",
        "train_size=0.80\n",
        "len_train_data=round(len(num_df)*train_size)\n",
        "training_data=scaled_data[0:len_train_data]\n",
        "testing_data=scaled_data[len_train_data:]\n",
        "print(f'The shape of training data is : {training_data.shape}')\n",
        "print(f'The shape of testing data is : {testing_data.shape}')\n"
      ],
      "metadata": {
        "id": "JvZcZkpq6qCL",
        "colab": {
          "base_uri": "https://localhost:8080/"
        },
        "outputId": "7ab91c18-ba46-4182-a083-4479bccaca9b"
      },
      "execution_count": 27,
      "outputs": [
        {
          "output_type": "stream",
          "name": "stdout",
          "text": [
            "The shape of training data is : (1392, 1)\n",
            "The shape of testing data is : (348, 1)\n"
          ]
        }
      ]
    },
    {
      "cell_type": "code",
      "source": [
        "#Creating features for future prediction\n",
        "#We will use past 90 days data to predict the present\n",
        "def feature_extraction(data,start,end):\n",
        "  X_train=[]\n",
        "  y_train=[]\n",
        "  for i in range(start,end):\n",
        "    X_train.append(data[i-50:i])\n",
        "    y_train.append(data[i])\n",
        "  return X_train,y_train"
      ],
      "metadata": {
        "id": "Llt4mDQN6qHc"
      },
      "execution_count": 28,
      "outputs": []
    },
    {
      "cell_type": "code",
      "source": [
        "#Creating training data\n",
        "X_train,y_train=feature_extraction(training_data,50,len(training_data))\n",
        "#creating testing data\n",
        "X_test,y_test=feature_extraction(testing_data,50,len(testing_data))"
      ],
      "metadata": {
        "id": "oZU_xjPZk7xd"
      },
      "execution_count": 29,
      "outputs": []
    },
    {
      "cell_type": "code",
      "source": [
        "#Converting the list to numpy array\n",
        "#Training data\n",
        "X_train=np.array(X_train)\n",
        "y_train=np.array(y_train)\n",
        "#Testing data\n",
        "X_test=np.array(X_test)\n",
        "y_test=np.array(y_test)"
      ],
      "metadata": {
        "id": "tMcgZggOk71E"
      },
      "execution_count": 30,
      "outputs": []
    },
    {
      "cell_type": "code",
      "source": [
        "print(X_test.shape), print(y_test.shape)\n"
      ],
      "metadata": {
        "id": "u3nKEIcglLq8",
        "colab": {
          "base_uri": "https://localhost:8080/"
        },
        "outputId": "0d0c8812-fe1f-49c5-9ea0-099bd52280bf"
      },
      "execution_count": 31,
      "outputs": [
        {
          "output_type": "stream",
          "name": "stdout",
          "text": [
            "(298, 50, 1)\n",
            "(298, 1)\n"
          ]
        },
        {
          "output_type": "execute_result",
          "data": {
            "text/plain": [
              "(None, None)"
            ]
          },
          "metadata": {},
          "execution_count": 31
        }
      ]
    },
    {
      "cell_type": "code",
      "source": [
        "print(X_train.shape), print(y_train.shape)"
      ],
      "metadata": {
        "id": "7e0Iq3epk748",
        "colab": {
          "base_uri": "https://localhost:8080/"
        },
        "outputId": "ff088abc-8b5d-484f-f38e-a4a5c1fa5bf7"
      },
      "execution_count": 32,
      "outputs": [
        {
          "output_type": "stream",
          "name": "stdout",
          "text": [
            "(1342, 50, 1)\n",
            "(1342, 1)\n"
          ]
        },
        {
          "output_type": "execute_result",
          "data": {
            "text/plain": [
              "(None, None)"
            ]
          },
          "metadata": {},
          "execution_count": 32
        }
      ]
    },
    {
      "cell_type": "code",
      "source": [
        "#Creating X train DataFrame\n",
        "#In order to get the original value we should inverse transform the scaled data\n",
        "# We inverse transform here because we will later use it for visualization\n",
        "train_df=pd.DataFrame(scaler.inverse_transform(X_train.reshape(-1,50)),index=np.arange(0,len(X_train)))\n",
        "train_df['target']=scaler.inverse_transform(y_train)"
      ],
      "metadata": {
        "id": "zvkNo2fnk78G"
      },
      "execution_count": 33,
      "outputs": []
    },
    {
      "cell_type": "code",
      "source": [
        "#Creating X test DataFrame\n",
        "test_df=pd.DataFrame(scaler.inverse_transform(X_test.reshape(-1,50)),index=np.arange(len(X_train),len(X_train)+len(X_test)))\n",
        "test_df['target']=scaler.inverse_transform(y_test)"
      ],
      "metadata": {
        "id": "Z4KGOHmnk7_U"
      },
      "execution_count": 34,
      "outputs": []
    },
    {
      "cell_type": "markdown",
      "source": [
        "Building Model"
      ],
      "metadata": {
        "id": "U-vvGeh6RBWn"
      }
    },
    {
      "cell_type": "code",
      "source": [
        "import keras\n",
        "import keras.utils\n",
        "from keras import utils as np_utils"
      ],
      "metadata": {
        "id": "KxJOsVF_hgFe"
      },
      "execution_count": 36,
      "outputs": []
    },
    {
      "cell_type": "code",
      "source": [
        "\n",
        "model=keras.Sequential()\n",
        "model.add(keras.layers.LSTM(units=384,return_sequences=True,input_shape=(X_train.shape[1],1)))\n",
        "model.add(keras.layers.LSTM(units=384,return_sequences=True))\n",
        "model.add(keras.layers.LSTM(units=384,return_sequences=True))\n",
        "model.add(keras.layers.LSTM(units=384,return_sequences=False))\n",
        "model.add(keras.layers.Dense(units=1,activation=\"sigmoid\"))\n",
        "model.summary()"
      ],
      "metadata": {
        "id": "lykd56VjYfdL",
        "colab": {
          "base_uri": "https://localhost:8080/"
        },
        "outputId": "01d3c86c-4964-4c2e-878d-42c4097174b3"
      },
      "execution_count": 37,
      "outputs": [
        {
          "output_type": "stream",
          "name": "stdout",
          "text": [
            "Model: \"sequential\"\n",
            "_________________________________________________________________\n",
            " Layer (type)                Output Shape              Param #   \n",
            "=================================================================\n",
            " lstm (LSTM)                 (None, 50, 384)           592896    \n",
            "                                                                 \n",
            " lstm_1 (LSTM)               (None, 50, 384)           1181184   \n",
            "                                                                 \n",
            " lstm_2 (LSTM)               (None, 50, 384)           1181184   \n",
            "                                                                 \n",
            " lstm_3 (LSTM)               (None, 384)               1181184   \n",
            "                                                                 \n",
            " dense (Dense)               (None, 1)                 385       \n",
            "                                                                 \n",
            "=================================================================\n",
            "Total params: 4,136,833\n",
            "Trainable params: 4,136,833\n",
            "Non-trainable params: 0\n",
            "_________________________________________________________________\n"
          ]
        }
      ]
    },
    {
      "cell_type": "code",
      "source": [
        "model.compile(optimizer='adam',loss='mse')\n",
        "callback_chk=keras.callbacks.ModelCheckpoint(filepath='best_model.h5',save_best_only=True)\n",
        "model_history=model.fit(X_train,y_train,epochs=30,validation_data=(X_test,y_test),callbacks=[callback_chk])"
      ],
      "metadata": {
        "id": "4qdAdE4Fk8IW",
        "colab": {
          "base_uri": "https://localhost:8080/"
        },
        "outputId": "b6faaa0d-311e-4f2b-ea0b-453b4f7edf82"
      },
      "execution_count": 38,
      "outputs": [
        {
          "output_type": "stream",
          "name": "stdout",
          "text": [
            "Epoch 1/30\n",
            "42/42 [==============================] - 82s 2s/step - loss: 0.0238 - val_loss: 0.1486\n",
            "Epoch 2/30\n",
            "42/42 [==============================] - 70s 2s/step - loss: 0.0048 - val_loss: 0.0766\n",
            "Epoch 3/30\n",
            "42/42 [==============================] - 68s 2s/step - loss: 0.0015 - val_loss: 0.0601\n",
            "Epoch 4/30\n",
            "42/42 [==============================] - 71s 2s/step - loss: 0.0012 - val_loss: 0.0445\n",
            "Epoch 5/30\n",
            "42/42 [==============================] - 69s 2s/step - loss: 8.9694e-04 - val_loss: 0.0596\n",
            "Epoch 6/30\n",
            "42/42 [==============================] - 66s 2s/step - loss: 7.4209e-04 - val_loss: 0.0520\n",
            "Epoch 7/30\n",
            "42/42 [==============================] - 68s 2s/step - loss: 6.3822e-04 - val_loss: 0.0263\n",
            "Epoch 8/30\n",
            "42/42 [==============================] - 70s 2s/step - loss: 5.9317e-04 - val_loss: 0.0295\n",
            "Epoch 9/30\n",
            "42/42 [==============================] - 68s 2s/step - loss: 5.1035e-04 - val_loss: 0.0305\n",
            "Epoch 10/30\n",
            "42/42 [==============================] - 68s 2s/step - loss: 5.0366e-04 - val_loss: 0.0105\n",
            "Epoch 11/30\n",
            "42/42 [==============================] - 66s 2s/step - loss: 4.6305e-04 - val_loss: 0.0125\n",
            "Epoch 12/30\n",
            "42/42 [==============================] - 66s 2s/step - loss: 4.9823e-04 - val_loss: 0.0289\n",
            "Epoch 13/30\n",
            "42/42 [==============================] - 70s 2s/step - loss: 4.2313e-04 - val_loss: 0.0052\n",
            "Epoch 14/30\n",
            "42/42 [==============================] - 70s 2s/step - loss: 4.1028e-04 - val_loss: 0.0036\n",
            "Epoch 15/30\n",
            "42/42 [==============================] - 70s 2s/step - loss: 4.6367e-04 - val_loss: 0.0182\n",
            "Epoch 16/30\n",
            "42/42 [==============================] - 71s 2s/step - loss: 4.3728e-04 - val_loss: 0.0144\n",
            "Epoch 17/30\n",
            "42/42 [==============================] - 70s 2s/step - loss: 3.6896e-04 - val_loss: 0.0140\n",
            "Epoch 18/30\n",
            "42/42 [==============================] - 69s 2s/step - loss: 3.3678e-04 - val_loss: 0.0061\n",
            "Epoch 19/30\n",
            "42/42 [==============================] - 71s 2s/step - loss: 3.3283e-04 - val_loss: 0.0073\n",
            "Epoch 20/30\n",
            "42/42 [==============================] - 72s 2s/step - loss: 3.6634e-04 - val_loss: 0.0089\n",
            "Epoch 21/30\n",
            "42/42 [==============================] - 68s 2s/step - loss: 3.3180e-04 - val_loss: 0.0061\n",
            "Epoch 22/30\n",
            "42/42 [==============================] - 70s 2s/step - loss: 3.0680e-04 - val_loss: 0.0079\n",
            "Epoch 23/30\n",
            "42/42 [==============================] - 68s 2s/step - loss: 3.3304e-04 - val_loss: 0.0058\n",
            "Epoch 24/30\n",
            "42/42 [==============================] - 68s 2s/step - loss: 2.5918e-04 - val_loss: 0.0075\n",
            "Epoch 25/30\n",
            "42/42 [==============================] - 68s 2s/step - loss: 2.7942e-04 - val_loss: 0.0098\n",
            "Epoch 26/30\n",
            "42/42 [==============================] - 70s 2s/step - loss: 2.3503e-04 - val_loss: 0.0066\n",
            "Epoch 27/30\n",
            "42/42 [==============================] - 70s 2s/step - loss: 2.3690e-04 - val_loss: 0.0064\n",
            "Epoch 28/30\n",
            "42/42 [==============================] - 67s 2s/step - loss: 2.2648e-04 - val_loss: 0.0106\n",
            "Epoch 29/30\n",
            "42/42 [==============================] - 69s 2s/step - loss: 2.2704e-04 - val_loss: 0.0079\n",
            "Epoch 30/30\n",
            "42/42 [==============================] - 69s 2s/step - loss: 2.2514e-04 - val_loss: 0.0077\n"
          ]
        }
      ]
    },
    {
      "cell_type": "code",
      "source": [
        "model=keras.models.load_model('best_model.h5')"
      ],
      "metadata": {
        "id": "2AUhlmhOk8Lk"
      },
      "execution_count": 39,
      "outputs": []
    },
    {
      "cell_type": "markdown",
      "source": [
        "Making Predictions"
      ],
      "metadata": {
        "id": "EVTxDT84ajro"
      }
    },
    {
      "cell_type": "code",
      "source": [
        "#Making predictions with some data \n",
        "predictions=model.predict(X_test)"
      ],
      "metadata": {
        "id": "SZjlUqrnk8Oo"
      },
      "execution_count": 40,
      "outputs": []
    },
    {
      "cell_type": "code",
      "source": [
        "predictions.shape"
      ],
      "metadata": {
        "id": "ZEOI7UnQn2Uv",
        "colab": {
          "base_uri": "https://localhost:8080/"
        },
        "outputId": "5c5b102d-5fdf-4a51-ecda-62e904876ac0"
      },
      "execution_count": 41,
      "outputs": [
        {
          "output_type": "execute_result",
          "data": {
            "text/plain": [
              "(298, 1)"
            ]
          },
          "metadata": {},
          "execution_count": 41
        }
      ]
    },
    {
      "cell_type": "code",
      "source": [
        "#Performing inverse transformation on predictions and actual value\n",
        "predictions_inv=scaler.inverse_transform(predictions)\n",
        "y_test_inv=scaler.inverse_transform(y_test)"
      ],
      "metadata": {
        "id": "CJROAgu7ZMNa"
      },
      "execution_count": 42,
      "outputs": []
    },
    {
      "cell_type": "code",
      "source": [
        "#RMSE\n",
        "rmse_error=np.sqrt(np.mean(pow((predictions_inv-y_test_inv),2)))\n",
        "rmse_error"
      ],
      "metadata": {
        "id": "uofsLciteLzT",
        "colab": {
          "base_uri": "https://localhost:8080/"
        },
        "outputId": "8011e826-bc72-4826-b878-3f746b733624"
      },
      "execution_count": 43,
      "outputs": [
        {
          "output_type": "execute_result",
          "data": {
            "text/plain": [
              "2324.310787221947"
            ]
          },
          "metadata": {},
          "execution_count": 43
        }
      ]
    },
    {
      "cell_type": "code",
      "source": [
        "# R squared\n",
        "from sklearn.metrics import r2_score\n",
        "r2_score(y_test_inv,predictions_inv)"
      ],
      "metadata": {
        "id": "kLCvYLWuZMRn",
        "colab": {
          "base_uri": "https://localhost:8080/"
        },
        "outputId": "49ad27d1-74e6-480b-8468-aa1b36b600e6"
      },
      "execution_count": 44,
      "outputs": [
        {
          "output_type": "execute_result",
          "data": {
            "text/plain": [
              "0.779112835785423"
            ]
          },
          "metadata": {},
          "execution_count": 44
        }
      ]
    },
    {
      "cell_type": "code",
      "source": [
        "#Plotting the losses\n",
        "loss=model_history.history['loss']\n",
        "val_loss=model_history.history['val_loss']\n",
        "index=np.arange(30)\n",
        "sns.lineplot(x=index,y=loss)\n",
        "sns.lineplot(x=index,y=val_loss)\n",
        "plt.ylabel('loss')\n",
        "plt.xlabel('iterations')\n",
        "plt.legend(['training loss','validation loss'])"
      ],
      "metadata": {
        "id": "q7L0quAnZMV5",
        "colab": {
          "base_uri": "https://localhost:8080/",
          "height": 296
        },
        "outputId": "9b5b604b-a89b-4383-e99d-8f785cd1928e"
      },
      "execution_count": 45,
      "outputs": [
        {
          "output_type": "execute_result",
          "data": {
            "text/plain": [
              "<matplotlib.legend.Legend at 0x7f28f632add0>"
            ]
          },
          "metadata": {},
          "execution_count": 45
        },
        {
          "output_type": "display_data",
          "data": {
            "text/plain": [
              "<Figure size 432x288 with 1 Axes>"
            ],
            "image/png": "[encoded data removed]"
          },
          "metadata": {
            "needs_background": "light"
          }
        }
      ]
    },
    {
      "cell_type": "code",
      "source": [
        "#Plotting the training data,testing data and predicted data\n",
        "plt.figure(figsize=(8,5))\n",
        "train_df['target'].plot()\n",
        "test_df['target'].plot()\n",
        "test_df['predictions']=predictions_inv\n",
        "test_df['predictions'].plot()\n",
        "plt.xlabel('indices')\n",
        "plt.ylabel('Closing price')\n",
        "plt.legend(['training','actual','predictions'])\n",
        "plt.show()"
      ],
      "metadata": {
        "id": "RuZdRFFZZMZB",
        "colab": {
          "base_uri": "https://localhost:8080/",
          "height": 334
        },
        "outputId": "297c8dfc-051c-4c00-994c-41372c4dbfda"
      },
      "execution_count": 46,
      "outputs": [
        {
          "output_type": "display_data",
          "data": {
            "text/plain": [
              "<Figure size 576x360 with 1 Axes>"
            ],
            "image/png": "[encoded data removed]"
          },
          "metadata": {
            "needs_background": "light"
          }
        }
      ]
    },
    {
      "cell_type": "markdown",
      "source": [
        "- Blue line indicates the whole data set\n",
        "- Green line indicates the predictions made for the next 50 days.\n",
        "- Orange line indicates the actual prediction."
      ],
      "metadata": {
        "id": "nMiRQTxotmLj"
      }
    },
    {
      "cell_type": "code",
      "source": [
        "# Merging the stocks dataframe and the news dataframe on date column\n",
        "df_final=pd.merge(news_df1,num_df,on=\"Date\")"
      ],
      "metadata": {
        "id": "aeUnxbadZMb9"
      },
      "execution_count": 71,
      "outputs": []
    },
    {
      "cell_type": "code",
      "source": [
        "df_final"
      ],
      "metadata": {
        "id": "Sy_np_uKZMf-",
        "colab": {
          "base_uri": "https://localhost:8080/",
          "height": 424
        },
        "outputId": "6ec70efb-29aa-41cc-fcad-55769b236975"
      },
      "execution_count": 72,
      "outputs": [
        {
          "output_type": "execute_result",
          "data": {
            "text/plain": [
              "                                            headline_text       Date  \\\n",
              "0       Mohali: Bajwa Developers managing director in ... 2020-08-07   \n",
              "1                   Couple moves HC to talk to grandchild 2020-08-07   \n",
              "2           West Bengal CM warns against fake Covid tests 2020-08-07   \n",
              "3             Elderly woman loses gold chain to snatchers 2020-08-07   \n",
              "4         'Mission Zero Mortality' launched in Aurangabad 2020-08-07   \n",
              "...                                                   ...        ...   \n",
              "176746  State govt has failed to provide basics: Ferreira 2022-01-28   \n",
              "176747  SC revoking suspension of 12 MLAs; slap on Mah... 2022-01-28   \n",
              "176748  On Goa's lateritic plateaus; researchers disco... 2022-01-28   \n",
              "176749  In a first; BJP fields 12 Catholic candidates ... 2022-01-28   \n",
              "176750  Even after Goa common entrance test criteria r... 2022-01-28   \n",
              "\n",
              "        polarity  subjectivity Sentiment         Close  \n",
              "0       0.000000      0.000000   Neutral  38040.570312  \n",
              "1       0.000000      0.000000   Neutral  38040.570312  \n",
              "2      -0.500000      1.000000  Negative  38040.570312  \n",
              "3      -0.300000      0.100000  Negative  38040.570312  \n",
              "4       0.000000      0.000000   Neutral  38040.570312  \n",
              "...          ...           ...       ...           ...  \n",
              "176746 -0.500000      0.300000  Negative  57200.230469  \n",
              "176747  0.000000      0.000000   Neutral  57200.230469  \n",
              "176748  0.136364      0.454545  Positive  57200.230469  \n",
              "176749  0.125000      0.216667  Positive  57200.230469  \n",
              "176750 -0.150000      0.437500  Negative  57200.230469  \n",
              "\n",
              "[176751 rows x 6 columns]"
            ],
            "text/html": [
              "\n",
              "  <div id=\"df-d126729d-2fee-48fa-b074-89b1725006c3\">\n",
              "    <div class=\"colab-df-container\">\n",
              "      <div>\n",
              "<style scoped>\n",
              "    .dataframe tbody tr th:only-of-type {\n",
              "        vertical-align: middle;\n",
              "    }\n",
              "\n",
              "    .dataframe tbody tr th {\n",
              "        vertical-align: top;\n",
              "    }\n",
              "\n",
              "    .dataframe thead th {\n",
              "        text-align: right;\n",
              "    }\n",
              "</style>\n",
              "<table border=\"1\" class=\"dataframe\">\n",
              "  <thead>\n",
              "    <tr style=\"text-align: right;\">\n",
              "      <th></th>\n",
              "      <th>headline_text</th>\n",
              "      <th>Date</th>\n",
              "      <th>polarity</th>\n",
              "      <th>subjectivity</th>\n",
              "      <th>Sentiment</th>\n",
              "      <th>Close</th>\n",
              "    </tr>\n",
              "  </thead>\n",
              "  <tbody>\n",
              "    <tr>\n",
              "      <th>0</th>\n",
              "      <td>Mohali: Bajwa Developers managing director in ...</td>\n",
              "      <td>2020-08-07</td>\n",
              "      <td>0.000000</td>\n",
              "      <td>0.000000</td>\n",
              "      <td>Neutral</td>\n",
              "      <td>38040.570312</td>\n",
              "    </tr>\n",
              "    <tr>\n",
              "      <th>1</th>\n",
              "      <td>Couple moves HC to talk to grandchild</td>\n",
              "      <td>2020-08-07</td>\n",
              "      <td>0.000000</td>\n",
              "      <td>0.000000</td>\n",
              "      <td>Neutral</td>\n",
              "      <td>38040.570312</td>\n",
              "    </tr>\n",
              "    <tr>\n",
              "      <th>2</th>\n",
              "      <td>West Bengal CM warns against fake Covid tests</td>\n",
              "      <td>2020-08-07</td>\n",
              "      <td>-0.500000</td>\n",
              "      <td>1.000000</td>\n",
              "      <td>Negative</td>\n",
              "      <td>38040.570312</td>\n",
              "    </tr>\n",
              "    <tr>\n",
              "      <th>3</th>\n",
              "      <td>Elderly woman loses gold chain to snatchers</td>\n",
              "      <td>2020-08-07</td>\n",
              "      <td>-0.300000</td>\n",
              "      <td>0.100000</td>\n",
              "      <td>Negative</td>\n",
              "      <td>38040.570312</td>\n",
              "    </tr>\n",
              "    <tr>\n",
              "      <th>4</th>\n",
              "      <td>'Mission Zero Mortality' launched in Aurangabad</td>\n",
              "      <td>2020-08-07</td>\n",
              "      <td>0.000000</td>\n",
              "      <td>0.000000</td>\n",
              "      <td>Neutral</td>\n",
              "      <td>38040.570312</td>\n",
              "    </tr>\n",
              "    <tr>\n",
              "      <th>...</th>\n",
              "      <td>...</td>\n",
              "      <td>...</td>\n",
              "      <td>...</td>\n",
              "      <td>...</td>\n",
              "      <td>...</td>\n",
              "      <td>...</td>\n",
              "    </tr>\n",
              "    <tr>\n",
              "      <th>176746</th>\n",
              "      <td>State govt has failed to provide basics: Ferreira</td>\n",
              "      <td>2022-01-28</td>\n",
              "      <td>-0.500000</td>\n",
              "      <td>0.300000</td>\n",
              "      <td>Negative</td>\n",
              "      <td>57200.230469</td>\n",
              "    </tr>\n",
              "    <tr>\n",
              "      <th>176747</th>\n",
              "      <td>SC revoking suspension of 12 MLAs; slap on Mah...</td>\n",
              "      <td>2022-01-28</td>\n",
              "      <td>0.000000</td>\n",
              "      <td>0.000000</td>\n",
              "      <td>Neutral</td>\n",
              "      <td>57200.230469</td>\n",
              "    </tr>\n",
              "    <tr>\n",
              "      <th>176748</th>\n",
              "      <td>On Goa's lateritic plateaus; researchers disco...</td>\n",
              "      <td>2022-01-28</td>\n",
              "      <td>0.136364</td>\n",
              "      <td>0.454545</td>\n",
              "      <td>Positive</td>\n",
              "      <td>57200.230469</td>\n",
              "    </tr>\n",
              "    <tr>\n",
              "      <th>176749</th>\n",
              "      <td>In a first; BJP fields 12 Catholic candidates ...</td>\n",
              "      <td>2022-01-28</td>\n",
              "      <td>0.125000</td>\n",
              "      <td>0.216667</td>\n",
              "      <td>Positive</td>\n",
              "      <td>57200.230469</td>\n",
              "    </tr>\n",
              "    <tr>\n",
              "      <th>176750</th>\n",
              "      <td>Even after Goa common entrance test criteria r...</td>\n",
              "      <td>2022-01-28</td>\n",
              "      <td>-0.150000</td>\n",
              "      <td>0.437500</td>\n",
              "      <td>Negative</td>\n",
              "      <td>57200.230469</td>\n",
              "    </tr>\n",
              "  </tbody>\n",
              "</table>\n",
              "<p>176751 rows × 6 columns</p>\n",
              "</div>\n",
              "      <button class=\"colab-df-convert\" onclick=\"convertToInteractive('df-d126729d-2fee-48fa-b074-89b1725006c3')\"\n",
              "              title=\"Convert this dataframe to an interactive table.\"\n",
              "              style=\"display:none;\">\n",
              "        \n",
              "  <svg xmlns=\"http://www.w3.org/2000/svg\" height=\"24px\"viewBox=\"0 0 24 24\"\n",
              "       width=\"24px\">\n",
              "    <path d=\"M0 0h24v24H0V0z\" fill=\"none\"/>\n",
              "    <path d=\"M18.56 5.44l.94 2.06.94-2.06 2.06-.94-2.06-.94-.94-2.06-.94 2.06-2.06.94zm-11 1L8.5 8.5l.94-2.06 2.06-.94-2.06-.94L8.5 2.5l-.94 2.06-2.06.94zm10 10l.94 2.06.94-2.06 2.06-.94-2.06-.94-.94-2.06-.94 2.06-2.06.94z\"/><path d=\"M17.41 7.96l-1.37-1.37c-.4-.4-.92-.59-1.43-.59-.52 0-1.04.2-1.43.59L10.3 9.45l-7.72 7.72c-.78.78-.78 2.05 0 2.83L4 21.41c.39.39.9.59 1.41.59.51 0 1.02-.2 1.41-.59l7.78-7.78 2.81-2.81c.8-.78.8-2.07 0-2.86zM5.41 20L4 18.59l7.72-7.72 1.47 1.35L5.41 20z\"/>\n",
              "  </svg>\n",
              "      </button>\n",
              "      \n",
              "  <style>\n",
              "    .colab-df-container {\n",
              "      display:flex;\n",
              "      flex-wrap:wrap;\n",
              "      gap: 12px;\n",
              "    }\n",
              "\n",
              "    .colab-df-convert {\n",
              "      background-color: #E8F0FE;\n",
              "      border: none;\n",
              "      border-radius: 50%;\n",
              "      cursor: pointer;\n",
              "      display: none;\n",
              "      fill: #1967D2;\n",
              "      height: 32px;\n",
              "      padding: 0 0 0 0;\n",
              "      width: 32px;\n",
              "    }\n",
              "\n",
              "    .colab-df-convert:hover {\n",
              "      background-color: #E2EBFA;\n",
              "      box-shadow: 0px 1px 2px rgba(60, 64, 67, 0.3), 0px 1px 3px 1px rgba(60, 64, 67, 0.15);\n",
              "      fill: #174EA6;\n",
              "    }\n",
              "\n",
              "    [theme=dark] .colab-df-convert {\n",
              "      background-color: #3B4455;\n",
              "      fill: #D2E3FC;\n",
              "    }\n",
              "\n",
              "    [theme=dark] .colab-df-convert:hover {\n",
              "      background-color: #434B5C;\n",
              "      box-shadow: 0px 1px 3px 1px rgba(0, 0, 0, 0.15);\n",
              "      filter: drop-shadow(0px 1px 2px rgba(0, 0, 0, 0.3));\n",
              "      fill: #FFFFFF;\n",
              "    }\n",
              "  </style>\n",
              "\n",
              "      <script>\n",
              "        const buttonEl =\n",
              "          document.querySelector('#df-d126729d-2fee-48fa-b074-89b1725006c3 button.colab-df-convert');\n",
              "        buttonEl.style.display =\n",
              "          google.colab.kernel.accessAllowed ? 'block' : 'none';\n",
              "\n",
              "        async function convertToInteractive(key) {\n",
              "          const element = document.querySelector('#df-d126729d-2fee-48fa-b074-89b1725006c3');\n",
              "          const dataTable =\n",
              "            await google.colab.kernel.invokeFunction('convertToInteractive',\n",
              "                                                     [key], {});\n",
              "          if (!dataTable) return;\n",
              "\n",
              "          const docLinkHtml = 'Like what you see? Visit the ' +\n",
              "            '<a target=\"_blank\" href=https://colab.research.google.com/notebooks/data_table.ipynb>data table notebook</a>'\n",
              "            + ' to learn more about interactive tables.';\n",
              "          element.innerHTML = '';\n",
              "          dataTable['output_type'] = 'display_data';\n",
              "          await google.colab.output.renderOutput(dataTable, element);\n",
              "          const docLink = document.createElement('div');\n",
              "          docLink.innerHTML = docLinkHtml;\n",
              "          element.appendChild(docLink);\n",
              "        }\n",
              "      </script>\n",
              "    </div>\n",
              "  </div>\n",
              "  "
            ]
          },
          "metadata": {},
          "execution_count": 72
        }
      ]
    },
    {
      "cell_type": "code",
      "source": [
        "# Grouping\n",
        "df_final.groupby('Sentiment')['Close'].mean()"
      ],
      "metadata": {
        "id": "OTGC24YMZMi3",
        "colab": {
          "base_uri": "https://localhost:8080/"
        },
        "outputId": "e9f19cda-f746-4b17-80e9-9ce5d2c10b2b"
      },
      "execution_count": 73,
      "outputs": [
        {
          "output_type": "execute_result",
          "data": {
            "text/plain": [
              "Sentiment\n",
              "Negative    50711.433883\n",
              "Neutral     50731.109050\n",
              "Positive    50688.785046\n",
              "Name: Close, dtype: float64"
            ]
          },
          "metadata": {},
          "execution_count": 73
        }
      ]
    },
    {
      "cell_type": "code",
      "source": [
        "#Creting dummy variables for sentiment column\n",
        "df_final=pd.get_dummies(data=df_final,columns=['Sentiment'])"
      ],
      "metadata": {
        "id": "1ETFNwk-ZMm1"
      },
      "execution_count": 74,
      "outputs": []
    },
    {
      "cell_type": "code",
      "source": [
        "df_final.head(5)"
      ],
      "metadata": {
        "id": "cVZ-RS47ZMsm",
        "colab": {
          "base_uri": "https://localhost:8080/",
          "height": 206
        },
        "outputId": "af3a1c86-0044-48ea-e804-1e41857c4a9a"
      },
      "execution_count": 75,
      "outputs": [
        {
          "output_type": "execute_result",
          "data": {
            "text/plain": [
              "                                       headline_text       Date  polarity  \\\n",
              "0  Mohali: Bajwa Developers managing director in ... 2020-08-07       0.0   \n",
              "1              Couple moves HC to talk to grandchild 2020-08-07       0.0   \n",
              "2      West Bengal CM warns against fake Covid tests 2020-08-07      -0.5   \n",
              "3        Elderly woman loses gold chain to snatchers 2020-08-07      -0.3   \n",
              "4    'Mission Zero Mortality' launched in Aurangabad 2020-08-07       0.0   \n",
              "\n",
              "   subjectivity         Close  Sentiment_Negative  Sentiment_Neutral  \\\n",
              "0           0.0  38040.570312                   0                  1   \n",
              "1           0.0  38040.570312                   0                  1   \n",
              "2           1.0  38040.570312                   1                  0   \n",
              "3           0.1  38040.570312                   1                  0   \n",
              "4           0.0  38040.570312                   0                  1   \n",
              "\n",
              "   Sentiment_Positive  \n",
              "0                   0  \n",
              "1                   0  \n",
              "2                   0  \n",
              "3                   0  \n",
              "4                   0  "
            ],
            "text/html": [
              "\n",
              "  <div id=\"df-641d66b0-d0b7-4076-89c9-114a94221c49\">\n",
              "    <div class=\"colab-df-container\">\n",
              "      <div>\n",
              "<style scoped>\n",
              "    .dataframe tbody tr th:only-of-type {\n",
              "        vertical-align: middle;\n",
              "    }\n",
              "\n",
              "    .dataframe tbody tr th {\n",
              "        vertical-align: top;\n",
              "    }\n",
              "\n",
              "    .dataframe thead th {\n",
              "        text-align: right;\n",
              "    }\n",
              "</style>\n",
              "<table border=\"1\" class=\"dataframe\">\n",
              "  <thead>\n",
              "    <tr style=\"text-align: right;\">\n",
              "      <th></th>\n",
              "      <th>headline_text</th>\n",
              "      <th>Date</th>\n",
              "      <th>polarity</th>\n",
              "      <th>subjectivity</th>\n",
              "      <th>Close</th>\n",
              "      <th>Sentiment_Negative</th>\n",
              "      <th>Sentiment_Neutral</th>\n",
              "      <th>Sentiment_Positive</th>\n",
              "    </tr>\n",
              "  </thead>\n",
              "  <tbody>\n",
              "    <tr>\n",
              "      <th>0</th>\n",
              "      <td>Mohali: Bajwa Developers managing director in ...</td>\n",
              "      <td>2020-08-07</td>\n",
              "      <td>0.0</td>\n",
              "      <td>0.0</td>\n",
              "      <td>38040.570312</td>\n",
              "      <td>0</td>\n",
              "      <td>1</td>\n",
              "      <td>0</td>\n",
              "    </tr>\n",
              "    <tr>\n",
              "      <th>1</th>\n",
              "      <td>Couple moves HC to talk to grandchild</td>\n",
              "      <td>2020-08-07</td>\n",
              "      <td>0.0</td>\n",
              "      <td>0.0</td>\n",
              "      <td>38040.570312</td>\n",
              "      <td>0</td>\n",
              "      <td>1</td>\n",
              "      <td>0</td>\n",
              "    </tr>\n",
              "    <tr>\n",
              "      <th>2</th>\n",
              "      <td>West Bengal CM warns against fake Covid tests</td>\n",
              "      <td>2020-08-07</td>\n",
              "      <td>-0.5</td>\n",
              "      <td>1.0</td>\n",
              "      <td>38040.570312</td>\n",
              "      <td>1</td>\n",
              "      <td>0</td>\n",
              "      <td>0</td>\n",
              "    </tr>\n",
              "    <tr>\n",
              "      <th>3</th>\n",
              "      <td>Elderly woman loses gold chain to snatchers</td>\n",
              "      <td>2020-08-07</td>\n",
              "      <td>-0.3</td>\n",
              "      <td>0.1</td>\n",
              "      <td>38040.570312</td>\n",
              "      <td>1</td>\n",
              "      <td>0</td>\n",
              "      <td>0</td>\n",
              "    </tr>\n",
              "    <tr>\n",
              "      <th>4</th>\n",
              "      <td>'Mission Zero Mortality' launched in Aurangabad</td>\n",
              "      <td>2020-08-07</td>\n",
              "      <td>0.0</td>\n",
              "      <td>0.0</td>\n",
              "      <td>38040.570312</td>\n",
              "      <td>0</td>\n",
              "      <td>1</td>\n",
              "      <td>0</td>\n",
              "    </tr>\n",
              "  </tbody>\n",
              "</table>\n",
              "</div>\n",
              "      <button class=\"colab-df-convert\" onclick=\"convertToInteractive('df-641d66b0-d0b7-4076-89c9-114a94221c49')\"\n",
              "              title=\"Convert this dataframe to an interactive table.\"\n",
              "              style=\"display:none;\">\n",
              "        \n",
              "  <svg xmlns=\"http://www.w3.org/2000/svg\" height=\"24px\"viewBox=\"0 0 24 24\"\n",
              "       width=\"24px\">\n",
              "    <path d=\"M0 0h24v24H0V0z\" fill=\"none\"/>\n",
              "    <path d=\"M18.56 5.44l.94 2.06.94-2.06 2.06-.94-2.06-.94-.94-2.06-.94 2.06-2.06.94zm-11 1L8.5 8.5l.94-2.06 2.06-.94-2.06-.94L8.5 2.5l-.94 2.06-2.06.94zm10 10l.94 2.06.94-2.06 2.06-.94-2.06-.94-.94-2.06-.94 2.06-2.06.94z\"/><path d=\"M17.41 7.96l-1.37-1.37c-.4-.4-.92-.59-1.43-.59-.52 0-1.04.2-1.43.59L10.3 9.45l-7.72 7.72c-.78.78-.78 2.05 0 2.83L4 21.41c.39.39.9.59 1.41.59.51 0 1.02-.2 1.41-.59l7.78-7.78 2.81-2.81c.8-.78.8-2.07 0-2.86zM5.41 20L4 18.59l7.72-7.72 1.47 1.35L5.41 20z\"/>\n",
              "  </svg>\n",
              "      </button>\n",
              "      \n",
              "  <style>\n",
              "    .colab-df-container {\n",
              "      display:flex;\n",
              "      flex-wrap:wrap;\n",
              "      gap: 12px;\n",
              "    }\n",
              "\n",
              "    .colab-df-convert {\n",
              "      background-color: #E8F0FE;\n",
              "      border: none;\n",
              "      border-radius: 50%;\n",
              "      cursor: pointer;\n",
              "      display: none;\n",
              "      fill: #1967D2;\n",
              "      height: 32px;\n",
              "      padding: 0 0 0 0;\n",
              "      width: 32px;\n",
              "    }\n",
              "\n",
              "    .colab-df-convert:hover {\n",
              "      background-color: #E2EBFA;\n",
              "      box-shadow: 0px 1px 2px rgba(60, 64, 67, 0.3), 0px 1px 3px 1px rgba(60, 64, 67, 0.15);\n",
              "      fill: #174EA6;\n",
              "    }\n",
              "\n",
              "    [theme=dark] .colab-df-convert {\n",
              "      background-color: #3B4455;\n",
              "      fill: #D2E3FC;\n",
              "    }\n",
              "\n",
              "    [theme=dark] .colab-df-convert:hover {\n",
              "      background-color: #434B5C;\n",
              "      box-shadow: 0px 1px 3px 1px rgba(0, 0, 0, 0.15);\n",
              "      filter: drop-shadow(0px 1px 2px rgba(0, 0, 0, 0.3));\n",
              "      fill: #FFFFFF;\n",
              "    }\n",
              "  </style>\n",
              "\n",
              "      <script>\n",
              "        const buttonEl =\n",
              "          document.querySelector('#df-641d66b0-d0b7-4076-89c9-114a94221c49 button.colab-df-convert');\n",
              "        buttonEl.style.display =\n",
              "          google.colab.kernel.accessAllowed ? 'block' : 'none';\n",
              "\n",
              "        async function convertToInteractive(key) {\n",
              "          const element = document.querySelector('#df-641d66b0-d0b7-4076-89c9-114a94221c49');\n",
              "          const dataTable =\n",
              "            await google.colab.kernel.invokeFunction('convertToInteractive',\n",
              "                                                     [key], {});\n",
              "          if (!dataTable) return;\n",
              "\n",
              "          const docLinkHtml = 'Like what you see? Visit the ' +\n",
              "            '<a target=\"_blank\" href=https://colab.research.google.com/notebooks/data_table.ipynb>data table notebook</a>'\n",
              "            + ' to learn more about interactive tables.';\n",
              "          element.innerHTML = '';\n",
              "          dataTable['output_type'] = 'display_data';\n",
              "          await google.colab.output.renderOutput(dataTable, element);\n",
              "          const docLink = document.createElement('div');\n",
              "          docLink.innerHTML = docLinkHtml;\n",
              "          element.appendChild(docLink);\n",
              "        }\n",
              "      </script>\n",
              "    </div>\n",
              "  </div>\n",
              "  "
            ]
          },
          "metadata": {},
          "execution_count": 75
        }
      ]
    },
    {
      "cell_type": "code",
      "source": [
        "# Plotting Correlation  Matrix\n",
        "corr_data=df_final[['Sentiment_Positive','Sentiment_Negative','Sentiment_Neutral','Close']].corr()\n",
        "sns.heatmap(corr_data,annot=True)"
      ],
      "metadata": {
        "id": "KJ1Tzmd9n2Xt",
        "colab": {
          "base_uri": "https://localhost:8080/",
          "height": 378
        },
        "outputId": "3e98db8e-748b-4825-a56a-89b890ea62d3"
      },
      "execution_count": 76,
      "outputs": [
        {
          "output_type": "execute_result",
          "data": {
            "text/plain": [
              "<matplotlib.axes._subplots.AxesSubplot at 0x7f28f67e9990>"
            ]
          },
          "metadata": {},
          "execution_count": 76
        },
        {
          "output_type": "display_data",
          "data": {
            "text/plain": [
              "<Figure size 432x288 with 2 Axes>"
            ],
            "image/png": "[encoded data removed]"
          },
          "metadata": {
            "needs_background": "light"
          }
        }
      ]
    },
    {
      "cell_type": "markdown",
      "source": [
        "Conclusion:\n",
        "\n",
        "We can finally conclude that the stock price obtained from yahoo finance are showing that they are Negatively correlated with the Sentiment analysis of headline news."
      ],
      "metadata": {
        "id": "wXG2m1pUspb0"
      }
    }
  ]
}